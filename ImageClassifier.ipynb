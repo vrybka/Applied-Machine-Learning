{
 "cells": [
  {
   "cell_type": "code",
   "execution_count": 4,
   "metadata": {
    "deletable": false,
    "editable": false,
    "nbgrader": {
     "cell_type": "code",
     "checksum": "e662f243e5a51a9a28af174d872e0716",
     "grade": false,
     "grade_id": "cell-d165f0401a4cf9c1",
     "locked": true,
     "schema_version": 3,
     "solution": false,
     "task": false
    }
   },
   "outputs": [],
   "source": [
    "%matplotlib inline\n",
    "%load_ext autoreload\n",
    "%autoreload 2\n",
    "\n",
    "import matplotlib.pyplot as plt\n",
    "\n",
    "import numpy as np\n",
    "from skimage.transform import resize\n",
    "from sklearn.naive_bayes import GaussianNB, BernoulliNB\n",
    "import pandas as pd\n",
    "from sklearn.ensemble import RandomForestClassifier\n",
    "import os\n",
    "\n",
    "from aml_utils import show_test_cases, test_case_checker, perform_computation"
   ]
  },
  {
   "cell_type": "markdown",
   "metadata": {
    "deletable": false,
    "editable": false,
    "nbgrader": {
     "cell_type": "markdown",
     "checksum": "c28d2ab4900be9e1e966dedfb84844a3",
     "grade": false,
     "grade_id": "cell-b1d3f5918ba31e2e",
     "locked": true,
     "schema_version": 3,
     "solution": false,
     "task": false
    }
   },
   "source": [
    "# Summary"
   ]
  },
  {
   "cell_type": "markdown",
   "metadata": {
    "deletable": false,
    "editable": false,
    "nbgrader": {
     "cell_type": "markdown",
     "checksum": "84b0f3fd7c94720e3024b3957e71a876",
     "grade": false,
     "grade_id": "cell-712bd56b1b32932d",
     "locked": true,
     "schema_version": 3,
     "solution": false,
     "task": false
    }
   },
   "source": [
    "\n",
    "The MNIST dataset is a dataset of 60,000 training and 10,000 test examples of handwritten digits, originally constructed by Yann Lecun, Corinna Cortes, and Christopher J.C. Burges. It is very widely used to check simple methods. There are 10 classes in total (\"0\" to \"9\"). This dataset has been extensively studied, and there is a history of methods and feature constructions at https://en.wikipedia.org/wiki/MNIST_database and at the original site, http://yann.lecun.com/exdb/mnist/ . You should notice that the best methods perform extremely well.\n",
    "\n",
    "There is also a version of the data that was used for a Kaggle competition. I used it for convenience so I wouldn't have to decompress Lecun's original format. I found it at http://www.kaggle.com/c/digit-recognizer .\n",
    "\n",
    "Regardless of which format you find the dataset stored in, the dataset consists of 28 x 28 images. These were originally binary images, but appear to be grey level images as a result of some anti-aliasing. We will ignore mid grey pixels (there aren't many of them) and call dark pixels \"ink pixels\", and light pixels \"paper pixels\"; you can modify the data values with a threshold to specify the distinction, as described here https://en.wikipedia.org/wiki/Thresholding_(image_processing) . The digit has been centered in the image by centering the center of gravity of the image pixels, but as mentioned on the original site, this is probably not ideal. Here are some options for re-centering the digits that I will refer to in the exercises.\n",
    "\n",
    "  * **Untouched**: Do not re-center the digits, but use the images as is.\n",
    "  \n",
    "  * **Bounding box**: Construct a 20 x 20 bounding box so that the horizontal (resp. vertical) range of ink pixels is centered in the box.\n",
    "\n",
    "  * **Stretched bounding box**: Construct a 20 x 20 bounding box so that the horizontal (resp. vertical) range of ink pixels runs the full horizontal (resp. vertical) range of the box. Obtaining this representation will involve rescaling image pixels: you find the horizontal and vertical ink range, cut that out of the original image, then resize the result to 20 x 20. Once the image has been re-centered, you can compute features.\n",
    "  \n",
    "Here are some pictures, which may help.\n",
    "\n",
    "![alt text](../ClassifyingImages-lib/bounding_v2.png \"Illustrations of the bounding box options described in text\")\n",
    "\n",
    "**Part 2A** Investigate classifying MNIST using naive Bayes. Fill in the accuracy values for the four combinations of Gaussian v. Bernoulli distributions and untouched images v. stretched bounding boxes in a table like this. Please use 20 x 20 for your bounding box dimensions.\n",
    "\n",
    "<table width=\"400\" border=\"1\">\n",
    "  <tbody>\n",
    "    <tr>\n",
    "      <th scope=\"col\"> Accuracy</th>\n",
    "      <th scope=\"col\">Gaussian</th>\n",
    "      <th scope=\"col\">Bernoulli</th>\n",
    "    </tr>\n",
    "    <tr>\n",
    "      <th scope=\"row\">Untouched images</th>\n",
    "      <td>&nbsp;</td>\n",
    "      <td>&nbsp;</td>\n",
    "    </tr>\n",
    "    <tr>\n",
    "      <th scope=\"row\">Stretched bounding box</th>\n",
    "      <td>&nbsp;</td>\n",
    "      <td>&nbsp;</td>\n",
    "    </tr>\n",
    "  </tbody>\n",
    "</table>\n",
    "Which distribution (Gaussian or Bernoulli) is better for untouched pixels? Which is better for stretched bounding box images?\n",
    "\n",
    "**Part 2B** Investigate classifying MNIST using a decision forest. For this you should use a library. For your forest construction, try out and compare the combinations of parameters shown in the table (i.e. depth of tree, number of trees, etc.) by listing the accuracy for each of the following cases: untouched raw pixels; stretched bounding box. Please use 20 x 20 for your bounding box dimensions. In each case, fill in a table like those shown below.\n",
    "\n",
    "<table width=\"400\" border=\"1\">\n",
    "  <tbody>\n",
    "    <tr>\n",
    "      <th scope=\"col\">Accuracy</th>\n",
    "      <th scope=\"col\">depth = 4</th>\n",
    "      <th scope=\"col\">depth = 8</th>\n",
    "      <th scope=\"col\">depth = 16</th>\n",
    "    </tr>\n",
    "    <tr>\n",
    "      <th scope=\"row\">#trees = 10</th>\n",
    "      <td>&nbsp;</td>\n",
    "      <td>&nbsp;</td>\n",
    "      <td>&nbsp;</td>\n",
    "    </tr>\n",
    "    <tr>\n",
    "      <th scope=\"row\">#trees = 20</th>\n",
    "      <td>&nbsp;</td>\n",
    "      <td>&nbsp;</td>\n",
    "      <td>&nbsp;</td>\n",
    "    </tr>\n",
    "    <tr>\n",
    "      <th scope=\"row\">#trees = 30</th>\n",
    "      <td>&nbsp;</td>\n",
    "      <td>&nbsp;</td>\n",
    "      <td>&nbsp;</td>\n",
    "    </tr>\n",
    "  </tbody>\n",
    "</table> \t \t "
   ]
  },
  {
   "cell_type": "markdown",
   "metadata": {
    "deletable": false,
    "editable": false,
    "nbgrader": {
     "cell_type": "markdown",
     "checksum": "86915f7c7dff7abbed67e163a8c799b8",
     "grade": false,
     "grade_id": "cell-9c858e3d16183cce",
     "locked": true,
     "schema_version": 3,
     "solution": false,
     "task": false
    }
   },
   "source": [
    "# 0. Data"
   ]
  },
  {
   "cell_type": "markdown",
   "metadata": {
    "deletable": false,
    "editable": false,
    "nbgrader": {
     "cell_type": "markdown",
     "checksum": "34cf0871a3d49e5f842c84da620f8ec9",
     "grade": false,
     "grade_id": "cell-9c0fc4ab7cd03b3a",
     "locked": true,
     "schema_version": 3,
     "solution": false,
     "task": false
    }
   },
   "source": [
    "Since the MNIST data (http://yann.lecun.com/exdb/mnist/) is stored in a binary format, we would rather have an API handle the loading for us. \n",
    "\n",
    "Pytorch (https://pytorch.org/) is an Automatic Differentiation library that we may see and use later in the course. \n",
    "\n",
    "Torchvision (https://pytorch.org/docs/stable/torchvision/index.html?highlight=torchvision#module-torchvision) is an extension library for pytorch that can load many of the famous data sets painlessly. \n",
    "\n",
    "We already used Torchvision for downloading the MNIST data. It is stored in a numpy array file that we will load easily."
   ]
  },
  {
   "cell_type": "code",
   "execution_count": 5,
   "metadata": {
    "deletable": false,
    "editable": false,
    "nbgrader": {
     "cell_type": "code",
     "checksum": "2068f1eeb1c0d75d6e2720252e49af6f",
     "grade": false,
     "grade_id": "cell-58b9a0d31631509c",
     "locked": true,
     "schema_version": 3,
     "solution": false,
     "task": false
    }
   },
   "outputs": [],
   "source": [
    "if os.path.exists('../ClassifyingImages-lib/mnist.npz'):\n",
    "    npzfile = np.load('../ClassifyingImages-lib/mnist.npz')\n",
    "    train_images_raw = npzfile['train_images_raw']\n",
    "    train_labels = npzfile['train_labels']\n",
    "    eval_images_raw = npzfile['eval_images_raw']\n",
    "    eval_labels = npzfile['eval_labels']\n",
    "else:\n",
    "    import torchvision\n",
    "    download_ = not os.path.exists('../ClassifyingImages-lib/mnist.npz')\n",
    "    data_train = torchvision.datasets.MNIST('mnist', train=True, transform=None, target_transform=None, download=download_)\n",
    "    data_eval = torchvision.datasets.MNIST('mnist', train=False, transform=None, target_transform=None, download=download_)\n",
    "\n",
    "    train_images_raw = data_train.data.numpy()\n",
    "    train_labels = data_train.targets.numpy()\n",
    "    eval_images_raw = data_eval.data.numpy()\n",
    "    eval_labels = data_eval.targets.numpy()\n",
    "\n",
    "    np.savez('../ClassifyingImages-lib/mnist.npz', train_images_raw=train_images_raw, train_labels=train_labels, \n",
    "             eval_images_raw=eval_images_raw, eval_labels=eval_labels) "
   ]
  },
  {
   "cell_type": "markdown",
   "metadata": {
    "deletable": false,
    "editable": false,
    "nbgrader": {
     "cell_type": "markdown",
     "checksum": "bae245775c77395ad4bc48b0adf2b150",
     "grade": false,
     "grade_id": "cell-185ad06b0704a649",
     "locked": true,
     "schema_version": 3,
     "solution": false,
     "task": false
    }
   },
   "source": [
    "## 0.1 Getting to Know The Imported Data"
   ]
  },
  {
   "cell_type": "markdown",
   "metadata": {
    "deletable": false,
    "editable": false,
    "nbgrader": {
     "cell_type": "markdown",
     "checksum": "7d96c33d3d69b09b89e4042d0de099fc",
     "grade": false,
     "grade_id": "cell-b974408f35c44759",
     "locked": true,
     "schema_version": 3,
     "solution": false,
     "task": false
    }
   },
   "source": [
    "Let's visibly check and see what we have imported.\n",
    "1. What is the order of dimensions? (We need to check whether the number of samples is the first dimension or the last dimension)\n",
    "2. What is the training data type?\n",
    "3. What is the labels shape and data type? Is it one-hot encoded?\n",
    "4. What are the pixel value ranges? Is it between 0 and 1? Or is it between 0 and 255? or something else?\n",
    "5. How is an ink (resp. background) pixel represented? Is it represented with 0? Is it represented with 1? Is it represented with 255? or something else? \n",
    "\n",
    "The following cells should help you answer these questions in order."
   ]
  },
  {
   "cell_type": "code",
   "execution_count": 6,
   "metadata": {
    "deletable": false,
    "editable": false,
    "nbgrader": {
     "cell_type": "code",
     "checksum": "ecf988ea2848f6280b5e45c90d9d8b99",
     "grade": false,
     "grade_id": "cell-5752905595b4a781",
     "locked": true,
     "schema_version": 3,
     "solution": false,
     "task": false
    }
   },
   "outputs": [
    {
     "data": {
      "text/plain": [
       "(60000, 28, 28)"
      ]
     },
     "execution_count": 6,
     "metadata": {},
     "output_type": "execute_result"
    }
   ],
   "source": [
    "train_images_raw.shape"
   ]
  },
  {
   "cell_type": "code",
   "execution_count": 7,
   "metadata": {
    "deletable": false,
    "editable": false,
    "nbgrader": {
     "cell_type": "code",
     "checksum": "727c9d18d619a129b489bd32c59563fd",
     "grade": false,
     "grade_id": "cell-bb6b936f5fb0f05a",
     "locked": true,
     "schema_version": 3,
     "solution": false,
     "task": false
    }
   },
   "outputs": [
    {
     "data": {
      "text/plain": [
       "dtype('uint8')"
      ]
     },
     "execution_count": 7,
     "metadata": {},
     "output_type": "execute_result"
    }
   ],
   "source": [
    "train_images_raw.dtype"
   ]
  },
  {
   "cell_type": "code",
   "execution_count": 8,
   "metadata": {
    "deletable": false,
    "editable": false,
    "nbgrader": {
     "cell_type": "code",
     "checksum": "71ea7937624021a67d223eb99e5148ec",
     "grade": false,
     "grade_id": "cell-83d01ff4bb519bf3",
     "locked": true,
     "schema_version": 3,
     "solution": false,
     "task": false
    }
   },
   "outputs": [
    {
     "data": {
      "text/plain": [
       "((60000,), dtype('int64'))"
      ]
     },
     "execution_count": 8,
     "metadata": {},
     "output_type": "execute_result"
    }
   ],
   "source": [
    "train_labels.shape, train_labels.dtype"
   ]
  },
  {
   "cell_type": "code",
   "execution_count": 9,
   "metadata": {
    "deletable": false,
    "editable": false,
    "nbgrader": {
     "cell_type": "code",
     "checksum": "c3317c02dfd7a7e32bced1479abd360b",
     "grade": false,
     "grade_id": "cell-dd37983f4c6beb61",
     "locked": true,
     "schema_version": 3,
     "solution": false,
     "task": false
    }
   },
   "outputs": [
    {
     "data": {
      "text/plain": [
       "array([5, 0, 4, 1, 9, 2, 1, 3, 1, 4])"
      ]
     },
     "execution_count": 9,
     "metadata": {},
     "output_type": "execute_result"
    }
   ],
   "source": [
    "train_labels[:10]"
   ]
  },
  {
   "cell_type": "code",
   "execution_count": 10,
   "metadata": {
    "deletable": false,
    "editable": false,
    "nbgrader": {
     "cell_type": "code",
     "checksum": "cd13d7388de3413b12a1d1364ad4b6c8",
     "grade": false,
     "grade_id": "cell-8e9380260012598d",
     "locked": true,
     "schema_version": 3,
     "solution": false,
     "task": false
    }
   },
   "outputs": [
    {
     "data": {
      "text/plain": [
       "(0, 255)"
      ]
     },
     "execution_count": 10,
     "metadata": {},
     "output_type": "execute_result"
    }
   ],
   "source": [
    "train_images_raw[0].min(), train_images_raw[0].max()"
   ]
  },
  {
   "cell_type": "code",
   "execution_count": 11,
   "metadata": {
    "deletable": false,
    "editable": false,
    "nbgrader": {
     "cell_type": "code",
     "checksum": "c74812f6fa46c1a5c05a9c418859bb88",
     "grade": false,
     "grade_id": "cell-96f2b03b704822bf",
     "locked": true,
     "schema_version": 3,
     "solution": false,
     "task": false
    }
   },
   "outputs": [
    {
     "name": "stdout",
     "output_type": "stream",
     "text": [
      "[0, 0, 0, 0, 0, 0, 0, 0, 0, 0, 0, 0, 0, 0, 0, 0, 0, 0, 0, 0, 0, 0, 0, 0, 0, 0, 0, 0]\n",
      "[0, 0, 0, 0, 0, 0, 0, 0, 0, 0, 0, 0, 0, 0, 0, 0, 0, 0, 0, 0, 0, 0, 0, 0, 0, 0, 0, 0]\n",
      "[0, 0, 0, 0, 0, 0, 0, 0, 0, 0, 0, 0, 0, 0, 0, 0, 0, 0, 0, 0, 0, 0, 0, 0, 0, 0, 0, 0]\n",
      "[0, 0, 0, 0, 0, 0, 0, 0, 0, 0, 0, 0, 0, 0, 0, 0, 0, 0, 0, 0, 0, 0, 0, 0, 0, 0, 0, 0]\n",
      "[0, 0, 0, 0, 0, 0, 0, 0, 0, 0, 0, 0, 0, 0, 0, 0, 0, 0, 0, 0, 0, 0, 0, 0, 0, 0, 0, 0]\n",
      "[0, 0, 0, 0, 0, 0, 0, 0, 0, 0, 0, 0, 3, 18, 18, 18, 126, 136, 175, 26, 166, 255, 247, 127, 0, 0, 0, 0]\n",
      "[0, 0, 0, 0, 0, 0, 0, 0, 30, 36, 94, 154, 170, 253, 253, 253, 253, 253, 225, 172, 253, 242, 195, 64, 0, 0, 0, 0]\n",
      "[0, 0, 0, 0, 0, 0, 0, 49, 238, 253, 253, 253, 253, 253, 253, 253, 253, 251, 93, 82, 82, 56, 39, 0, 0, 0, 0, 0]\n",
      "[0, 0, 0, 0, 0, 0, 0, 18, 219, 253, 253, 253, 253, 253, 198, 182, 247, 241, 0, 0, 0, 0, 0, 0, 0, 0, 0, 0]\n",
      "[0, 0, 0, 0, 0, 0, 0, 0, 80, 156, 107, 253, 253, 205, 11, 0, 43, 154, 0, 0, 0, 0, 0, 0, 0, 0, 0, 0]\n",
      "[0, 0, 0, 0, 0, 0, 0, 0, 0, 14, 1, 154, 253, 90, 0, 0, 0, 0, 0, 0, 0, 0, 0, 0, 0, 0, 0, 0]\n",
      "[0, 0, 0, 0, 0, 0, 0, 0, 0, 0, 0, 139, 253, 190, 2, 0, 0, 0, 0, 0, 0, 0, 0, 0, 0, 0, 0, 0]\n",
      "[0, 0, 0, 0, 0, 0, 0, 0, 0, 0, 0, 11, 190, 253, 70, 0, 0, 0, 0, 0, 0, 0, 0, 0, 0, 0, 0, 0]\n",
      "[0, 0, 0, 0, 0, 0, 0, 0, 0, 0, 0, 0, 35, 241, 225, 160, 108, 1, 0, 0, 0, 0, 0, 0, 0, 0, 0, 0]\n",
      "[0, 0, 0, 0, 0, 0, 0, 0, 0, 0, 0, 0, 0, 81, 240, 253, 253, 119, 25, 0, 0, 0, 0, 0, 0, 0, 0, 0]\n",
      "[0, 0, 0, 0, 0, 0, 0, 0, 0, 0, 0, 0, 0, 0, 45, 186, 253, 253, 150, 27, 0, 0, 0, 0, 0, 0, 0, 0]\n",
      "[0, 0, 0, 0, 0, 0, 0, 0, 0, 0, 0, 0, 0, 0, 0, 16, 93, 252, 253, 187, 0, 0, 0, 0, 0, 0, 0, 0]\n",
      "[0, 0, 0, 0, 0, 0, 0, 0, 0, 0, 0, 0, 0, 0, 0, 0, 0, 249, 253, 249, 64, 0, 0, 0, 0, 0, 0, 0]\n",
      "[0, 0, 0, 0, 0, 0, 0, 0, 0, 0, 0, 0, 0, 0, 46, 130, 183, 253, 253, 207, 2, 0, 0, 0, 0, 0, 0, 0]\n",
      "[0, 0, 0, 0, 0, 0, 0, 0, 0, 0, 0, 0, 39, 148, 229, 253, 253, 253, 250, 182, 0, 0, 0, 0, 0, 0, 0, 0]\n",
      "[0, 0, 0, 0, 0, 0, 0, 0, 0, 0, 24, 114, 221, 253, 253, 253, 253, 201, 78, 0, 0, 0, 0, 0, 0, 0, 0, 0]\n",
      "[0, 0, 0, 0, 0, 0, 0, 0, 23, 66, 213, 253, 253, 253, 253, 198, 81, 2, 0, 0, 0, 0, 0, 0, 0, 0, 0, 0]\n",
      "[0, 0, 0, 0, 0, 0, 18, 171, 219, 253, 253, 253, 253, 195, 80, 9, 0, 0, 0, 0, 0, 0, 0, 0, 0, 0, 0, 0]\n",
      "[0, 0, 0, 0, 55, 172, 226, 253, 253, 253, 253, 244, 133, 11, 0, 0, 0, 0, 0, 0, 0, 0, 0, 0, 0, 0, 0, 0]\n",
      "[0, 0, 0, 0, 136, 253, 253, 253, 212, 135, 132, 16, 0, 0, 0, 0, 0, 0, 0, 0, 0, 0, 0, 0, 0, 0, 0, 0]\n",
      "[0, 0, 0, 0, 0, 0, 0, 0, 0, 0, 0, 0, 0, 0, 0, 0, 0, 0, 0, 0, 0, 0, 0, 0, 0, 0, 0, 0]\n",
      "[0, 0, 0, 0, 0, 0, 0, 0, 0, 0, 0, 0, 0, 0, 0, 0, 0, 0, 0, 0, 0, 0, 0, 0, 0, 0, 0, 0]\n",
      "[0, 0, 0, 0, 0, 0, 0, 0, 0, 0, 0, 0, 0, 0, 0, 0, 0, 0, 0, 0, 0, 0, 0, 0, 0, 0, 0, 0]\n"
     ]
    },
    {
     "data": {
      "text/plain": [
       "<matplotlib.image.AxesImage at 0x7f274f8d77f0>"
      ]
     },
     "execution_count": 11,
     "metadata": {},
     "output_type": "execute_result"
    },
    {
     "data": {
      "image/png": "[encoded data removed]",
      "text/plain": [
       "<Figure size 432x288 with 1 Axes>"
      ]
     },
     "metadata": {
      "needs_background": "light"
     },
     "output_type": "display_data"
    }
   ],
   "source": [
    "for row_im in train_images_raw[0]:\n",
    "    print(row_im.tolist())\n",
    "plt.imshow(train_images_raw[0], cmap='Greys')"
   ]
  },
  {
   "cell_type": "markdown",
   "metadata": {
    "deletable": false,
    "editable": false,
    "nbgrader": {
     "cell_type": "markdown",
     "checksum": "531490a5e63119cf6f4af3137f5b21c5",
     "grade": false,
     "grade_id": "cell-a7cd3afd7fba50be",
     "locked": true,
     "schema_version": 3,
     "solution": false,
     "task": false
    }
   },
   "source": [
    "## 0.2 Thresholding"
   ]
  },
  {
   "cell_type": "markdown",
   "metadata": {
    "deletable": false,
    "editable": false,
    "nbgrader": {
     "cell_type": "markdown",
     "checksum": "b6d55c0c0796201ac226f0a75caac655",
     "grade": false,
     "grade_id": "cell-d191e2c2dbd453b3",
     "locked": true,
     "schema_version": 3,
     "solution": false,
     "task": false
    }
   },
   "source": [
    "The function `get_thresholded` that does image thresholding and takes following the arguments:\n",
    "\n",
    "1. `images_raw`: A numpy array. Do not assume anything about its shape, dtype or range of values. Your function should be careless about these attributes.\n",
    "2. `threshold`: A scalar value.\n",
    "\n",
    "and returns the following:\n",
    "\n",
    "* `threshed_image`: A numpy array with the same shape as `images_raw`, and the `bool` dtype. This array should indicate whether each elemelent of `images_raw` is **greater than or equal to**  `threshold`."
   ]
  },
  {
   "cell_type": "code",
   "execution_count": null,
   "metadata": {
    "deletable": false
   },
   "outputs": [],
   "source": [
    "def get_thresholded(images_raw, threshold):\n",
    "    \"\"\"\n",
    "    Perform image thresholding.\n",
    "\n",
    "        Parameters:\n",
    "                images_raw (np,array): Do not assume anything about its shape, dtype or range of values. \n",
    "                Your function should be careless about these attributes.\n",
    "                threshold (int): A scalar value.\n",
    "\n",
    "        Returns:\n",
    "                threshed_image (np.array): A numpy array with the same shape as images_raw, and the bool dtype. \n",
    "                This array should indicate whether each elemelent of images_raw is greater than or equal to \n",
    "                threshold.\n",
    "    \"\"\"\n",
    "    \n",
    "    # your code here\n",
    "    \n",
    "    threshed_image = np.copy(images_raw)\n",
    "    for i, e in np.ndenumerate(images_raw):\n",
    "        if e >= threshold:\n",
    "            threshed_image[i] = 1\n",
    "        else:\n",
    "            threshed_image[i] = 0\n",
    "    threshed_image = threshed_image.astype(dtype=bool)\n",
    "    \n",
    "    return threshed_image "
   ]
  },
  {
   "cell_type": "code",
   "execution_count": null,
   "metadata": {
    "deletable": false,
    "editable": false,
    "nbgrader": {
     "cell_type": "code",
     "checksum": "a5c1fa4e5e19d4100f80d07e5bf348ce",
     "grade": true,
     "grade_id": "cell-37d23990ad29da50",
     "locked": true,
     "points": 0,
     "schema_version": 3,
     "solution": false,
     "task": false
    }
   },
   "outputs": [],
   "source": [
    "# This cell is left empty as a seperator. You can leave this cell as it is, and you should not delete it.\n"
   ]
  },
  {
   "cell_type": "code",
   "execution_count": null,
   "metadata": {
    "deletable": false,
    "editable": false,
    "nbgrader": {
     "cell_type": "code",
     "checksum": "d64acf443f268b80cb1e0568b2939056",
     "grade": false,
     "grade_id": "cell-797bb3db5713e700",
     "locked": true,
     "schema_version": 3,
     "solution": false,
     "task": false
    }
   },
   "outputs": [],
   "source": [
    "(orig_image, ref_image, test_im, success_thr) = show_test_cases(lambda x: get_thresholded(x, 20), task_id='1_V')\n",
    "\n",
    "assert success_thr"
   ]
  },
  {
   "cell_type": "markdown",
   "metadata": {
    "deletable": false,
    "editable": false,
    "nbgrader": {
     "cell_type": "markdown",
     "checksum": "3529f39ecb4a05ceb97777ad7e2daf68",
     "grade": false,
     "grade_id": "cell-2b014c59e061a16d",
     "locked": true,
     "schema_version": 3,
     "solution": false,
     "task": false
    }
   },
   "source": [
    "### **Warning**: \n",
    "Do not leave the previous cell hanging; unless you enter \"s\" to stop it, you cannot evaluate other cells."
   ]
  },
  {
   "cell_type": "code",
   "execution_count": null,
   "metadata": {
    "code_folding": [
     29,
     50,
     61,
     125
    ],
    "deletable": false,
    "editable": false,
    "nbgrader": {
     "cell_type": "code",
     "checksum": "3241ea25687ee137c2ae5278dcc500db",
     "grade": true,
     "grade_id": "cell-5a6c80f209a6538a",
     "locked": true,
     "points": 10,
     "schema_version": 3,
     "solution": false,
     "task": false
    }
   },
   "outputs": [],
   "source": [
    "# This cell is left empty as a seperator. You can leave this cell as it is, and you should not delete it.\n"
   ]
  },
  {
   "cell_type": "code",
   "execution_count": null,
   "metadata": {
    "deletable": false,
    "editable": false,
    "nbgrader": {
     "cell_type": "code",
     "checksum": "2ceb046f8dba4e0cc0721ce1d3d1b04b",
     "grade": false,
     "grade_id": "cell-9a5c284b253d8ac2",
     "locked": true,
     "schema_version": 3,
     "solution": false,
     "task": false
    }
   },
   "outputs": [],
   "source": [
    "# Checking against the pre-computed test database\n",
    "test_results = test_case_checker(get_thresholded, task_id=1)\n",
    "assert test_results['passed'], test_results['message']"
   ]
  },
  {
   "cell_type": "code",
   "execution_count": null,
   "metadata": {
    "deletable": false,
    "editable": false,
    "nbgrader": {
     "cell_type": "code",
     "checksum": "eb7c769fcf5b2536e2477438783397d3",
     "grade": false,
     "grade_id": "cell-40944c35325a4c3d",
     "locked": true,
     "schema_version": 3,
     "solution": false,
     "task": false
    }
   },
   "outputs": [],
   "source": [
    "train_images_threshed = get_thresholded(train_images_raw, threshold=20)\n",
    "eval_images_threshed = get_thresholded(eval_images_raw, threshold=20)"
   ]
  },
  {
   "cell_type": "markdown",
   "metadata": {
    "deletable": false,
    "editable": false,
    "nbgrader": {
     "cell_type": "markdown",
     "checksum": "d4e37c8ed46465b44ddb7bce2e85b0d0",
     "grade": false,
     "grade_id": "cell-d77efb917900fd41",
     "locked": true,
     "schema_version": 3,
     "solution": false,
     "task": false
    }
   },
   "source": [
    "## 0.3 Creating \"Bounding Box\" Images"
   ]
  },
  {
   "cell_type": "markdown",
   "metadata": {
    "deletable": false,
    "editable": false,
    "nbgrader": {
     "cell_type": "markdown",
     "checksum": "843a73c31c12c94536610aa43cd0e2c6",
     "grade": false,
     "grade_id": "cell-f19865fa60d0873f",
     "locked": true,
     "schema_version": 3,
     "solution": false,
     "task": false
    }
   },
   "source": [
    "### 0.3.1 Finding Inky Rows"
   ]
  },
  {
   "cell_type": "markdown",
   "metadata": {
    "deletable": false,
    "editable": false,
    "nbgrader": {
     "cell_type": "markdown",
     "checksum": "b3e3086924ab3f03ad50812c0abee177",
     "grade": false,
     "grade_id": "cell-db5f4ed5c6dae519",
     "locked": true,
     "schema_version": 3,
     "solution": false,
     "task": false
    }
   },
   "source": [
    "The function `get_is_row_inky` that finds the rows with ink pixels and takes following the arguments:\n",
    "\n",
    "* `images`: A numpy array with the shape `(N,height,width)`, where \n",
    "    * `N` is the number of samples and could be anything,\n",
    "    * `height` is each individual image's height in pixels (i.e., number of rows in each image),\n",
    "    * and `width` is each individual image's width in pixels (i.e., number of columns in each image).\n",
    "   \n",
    "      * Do not assume anything about `images`'s dtype or the number of samples or the `height` or the `width`.\n",
    "\n",
    "and returns the following:\n",
    "\n",
    "* `is_row_inky`: A numpy array with the shape `(N, height)`, and the `bool` dtype. \n",
    "    * `is_row_inky[i,j]` should be True if **any** of the pixels in the `j`th row of the `i`th image was an ink pixel, and False otherwise."
   ]
  },
  {
   "cell_type": "code",
   "execution_count": null,
   "metadata": {
    "deletable": false
   },
   "outputs": [],
   "source": [
    "def get_is_row_inky(images):\n",
    "    \"\"\"\n",
    "    Finds the rows with ink pixels.\n",
    "\n",
    "        Parameters:\n",
    "                images (np,array): A numpy array with the shape (N, height, width)\n",
    "\n",
    "        Returns:\n",
    "                is_row_inky (np.array): A numpy array with the shape (N, height), and the bool dtype. \n",
    "    \"\"\"\n",
    "    \n",
    "    # your code here\n",
    "    (N, height, width) = images.shape\n",
    "    is_row_inky = np.zeros((N,height), dtype=bool)\n",
    "    for i in range(0,N):\n",
    "        for j in range(0,height):\n",
    "            for k in range(0,width):\n",
    "                if images [i][j][k] > 0:\n",
    "                    is_row_inky[i][j] = True\n",
    "\n",
    "    return is_row_inky"
   ]
  },
  {
   "cell_type": "code",
   "execution_count": null,
   "metadata": {
    "deletable": false,
    "editable": false,
    "nbgrader": {
     "cell_type": "code",
     "checksum": "0c63049e4815fb4e362a469b2ef09782",
     "grade": true,
     "grade_id": "cell-08ca31f134ecf622",
     "locked": true,
     "points": 0,
     "schema_version": 3,
     "solution": false,
     "task": false
    }
   },
   "outputs": [],
   "source": [
    "# This cell is left empty as a seperator. You can leave this cell as it is, and you should not delete it.\n"
   ]
  },
  {
   "cell_type": "code",
   "execution_count": null,
   "metadata": {
    "deletable": false,
    "editable": false,
    "nbgrader": {
     "cell_type": "code",
     "checksum": "fa73abd0bb1ac38be94b496df5d8daed",
     "grade": false,
     "grade_id": "cell-55b1c2342cee1684",
     "locked": true,
     "schema_version": 3,
     "solution": false,
     "task": false
    }
   },
   "outputs": [],
   "source": [
    "(orig_image, ref_image, test_im, success_is_row_inky) = show_test_cases(lambda x: np.expand_dims(get_is_row_inky(x), axis=2), \n",
    "                                                                        task_id='2_V')\n",
    "\n",
    "assert success_is_row_inky"
   ]
  },
  {
   "cell_type": "markdown",
   "metadata": {
    "deletable": false,
    "editable": false,
    "nbgrader": {
     "cell_type": "markdown",
     "checksum": "696a02384683ac208c375191e8d46785",
     "grade": false,
     "grade_id": "cell-587e07bcbc926371",
     "locked": true,
     "schema_version": 3,
     "solution": false,
     "task": false
    }
   },
   "source": [
    "### **Warning**: \n",
    "Do not leave the previous cell hanging; unless you enter \"s\" to stop it, you cannot evaluate other cells."
   ]
  },
  {
   "cell_type": "code",
   "execution_count": null,
   "metadata": {
    "code_folding": [
     20
    ],
    "deletable": false,
    "editable": false,
    "nbgrader": {
     "cell_type": "code",
     "checksum": "0585ab017ce9741de57e33c37d87c79c",
     "grade": true,
     "grade_id": "cell-7ce45304a06cacf9",
     "locked": true,
     "points": 10,
     "schema_version": 3,
     "solution": false,
     "task": false
    }
   },
   "outputs": [],
   "source": [
    "# This cell is left empty as a seperator. You can leave this cell as it is, and you should not delete it.\n"
   ]
  },
  {
   "cell_type": "code",
   "execution_count": null,
   "metadata": {
    "deletable": false,
    "editable": false,
    "nbgrader": {
     "cell_type": "code",
     "checksum": "72a07da4caf8da8b13acc8f468104393",
     "grade": false,
     "grade_id": "cell-e5f7389e4fc2ff65",
     "locked": true,
     "schema_version": 3,
     "solution": false,
     "task": false
    }
   },
   "outputs": [],
   "source": [
    "# Checking against the pre-computed test database\n",
    "test_results = test_case_checker(get_is_row_inky, task_id=2)\n",
    "assert test_results['passed'], test_results['message']"
   ]
  },
  {
   "cell_type": "markdown",
   "metadata": {
    "deletable": false,
    "editable": false,
    "nbgrader": {
     "cell_type": "markdown",
     "checksum": "097e428cc88bb9f4fcc779d228353aee",
     "grade": false,
     "grade_id": "cell-5e30361be00d1577",
     "locked": true,
     "schema_version": 3,
     "solution": false,
     "task": false
    }
   },
   "source": [
    "### 0.3.2 Finding Inky Columns"
   ]
  },
  {
   "cell_type": "markdown",
   "metadata": {
    "deletable": false,
    "editable": false,
    "nbgrader": {
     "cell_type": "markdown",
     "checksum": "e0213a547a5418d3d6236b8a08d97b6d",
     "grade": false,
     "grade_id": "cell-965c9412551498ae",
     "locked": true,
     "schema_version": 3,
     "solution": false,
     "task": false
    }
   },
   "source": [
    "Similar to `get_is_row_inky`, Write the function `get_is_col_inky` that finds the columns with ink pixels and takes following the arguments:\n",
    "\n",
    "* `images`: A numpy array with the shape `(N,height,width)`, where \n",
    "    * `N` is the number of samples and could be anything,\n",
    "    * `height` is each individual image's height in pixels (i.e., number of rows in each image),\n",
    "    * and `width` is each individual image's width in pixels (i.e., number of columns in each image).\n",
    "   \n",
    "      * **Note**: Do not assume anything about `images`'s dtype or the number of samples or the `height` or the `width`.\n",
    "\n",
    "and returns the following:\n",
    "\n",
    "* `is_col_inky`: A numpy array with the shape `(N, width)`, and the `bool` dtype. \n",
    "    * `is_col_inky[i,j]` should be True if **any** of the pixels in the `j`th column of the `i`th image was an ink pixel, and False otherwise."
   ]
  },
  {
   "cell_type": "code",
   "execution_count": null,
   "metadata": {
    "deletable": false
   },
   "outputs": [],
   "source": [
    "def get_is_col_inky(images):\n",
    "    \"\"\"\n",
    "    Finds the columns with ink pixels.\n",
    "\n",
    "        Parameters:\n",
    "                images (np.array): A numpy array with the shape (N,height,width).\n",
    "                \n",
    "        Returns:\n",
    "                is_col_inky (np.array): A numpy array with the shape (N, width), and the bool dtype. \n",
    "    \"\"\"\n",
    "    \n",
    "    # your code here\n",
    "    (N, height, width) = images.shape\n",
    "    is_col_inky = np.zeros((N,width), dtype=bool)\n",
    "    for i in range (0,N):\n",
    "        for j in range (0,height):\n",
    "            for k in range (0,width):\n",
    "                if images[i][j][k] > 0:\n",
    "                    is_col_inky[i][k] = True\n",
    "    \n",
    "    return is_col_inky"
   ]
  },
  {
   "cell_type": "code",
   "execution_count": null,
   "metadata": {
    "code_folding": [
     20
    ],
    "deletable": false,
    "editable": false,
    "nbgrader": {
     "cell_type": "code",
     "checksum": "bbf5654f98f3dfaeb97dc64e4c259138",
     "grade": true,
     "grade_id": "cell-edb35a8913b9302f",
     "locked": true,
     "points": 0,
     "schema_version": 3,
     "solution": false,
     "task": false
    }
   },
   "outputs": [],
   "source": [
    "# This cell is left empty as a seperator. You can leave this cell as it is, and you should not delete it.\n"
   ]
  },
  {
   "cell_type": "code",
   "execution_count": null,
   "metadata": {
    "deletable": false,
    "editable": false,
    "nbgrader": {
     "cell_type": "code",
     "checksum": "5f6df907f49f5af3d99a153fcbde0742",
     "grade": false,
     "grade_id": "cell-efe67a1d0b8eb1a1",
     "locked": true,
     "schema_version": 3,
     "solution": false,
     "task": false
    }
   },
   "outputs": [],
   "source": [
    "(orig_image, ref_image, test_im, success_is_col_inky) = show_test_cases(lambda x: np.expand_dims(get_is_col_inky(x), axis=1), \n",
    "                                                                        task_id='3_V')\n",
    "\n",
    "assert success_is_col_inky"
   ]
  },
  {
   "cell_type": "markdown",
   "metadata": {
    "deletable": false,
    "editable": false,
    "nbgrader": {
     "cell_type": "markdown",
     "checksum": "ecac86562c3fefc7914e60d7859c23dc",
     "grade": false,
     "grade_id": "cell-d5f408f654a3e0a7",
     "locked": true,
     "schema_version": 3,
     "solution": false,
     "task": false
    }
   },
   "source": [
    "### **Warning**: \n",
    "Do not leave the previous cell hanging; unless you enter \"s\" to stop it, you cannot evaluate other cells."
   ]
  },
  {
   "cell_type": "code",
   "execution_count": null,
   "metadata": {
    "code_folding": [
     19
    ],
    "deletable": false,
    "editable": false,
    "nbgrader": {
     "cell_type": "code",
     "checksum": "df5c685bd15aa639a982164a31d41b98",
     "grade": true,
     "grade_id": "cell-d698c4d70b0446e5",
     "locked": true,
     "points": 10,
     "schema_version": 3,
     "solution": false,
     "task": false
    }
   },
   "outputs": [],
   "source": [
    "# This cell is left empty as a seperator. You can leave this cell as it is, and you should not delete it.\n"
   ]
  },
  {
   "cell_type": "code",
   "execution_count": null,
   "metadata": {
    "deletable": false,
    "editable": false,
    "nbgrader": {
     "cell_type": "code",
     "checksum": "c958456cdcbdbf72387eb619a92ca588",
     "grade": false,
     "grade_id": "cell-56c6c1aa8a03ec1e",
     "locked": true,
     "schema_version": 3,
     "solution": false,
     "task": false
    }
   },
   "outputs": [],
   "source": [
    "# Checking against the pre-computed test database\n",
    "test_results = test_case_checker(get_is_col_inky, task_id=3)\n",
    "assert test_results['passed'], test_results['message']"
   ]
  },
  {
   "cell_type": "markdown",
   "metadata": {
    "deletable": false,
    "editable": false,
    "nbgrader": {
     "cell_type": "markdown",
     "checksum": "fe5de803da0b8f7ad777563db51097d2",
     "grade": false,
     "grade_id": "cell-3ca74deb3c67eab9",
     "locked": true,
     "schema_version": 3,
     "solution": false,
     "task": false
    }
   },
   "source": [
    "### 0.3.3.1 Getting the First Inky Rows"
   ]
  },
  {
   "cell_type": "markdown",
   "metadata": {
    "deletable": false,
    "editable": false,
    "nbgrader": {
     "cell_type": "markdown",
     "checksum": "b76cbe34bd1c6bc2a6083f946cd90476",
     "grade": false,
     "grade_id": "cell-4201f88994fb71d2",
     "locked": true,
     "schema_version": 3,
     "solution": false,
     "task": false
    }
   },
   "source": [
    "The function `get_first_ink_row_index` that finds the first row containing ink pixels and takes following the arguments:\n",
    "\n",
    "* `is_row_inky`: A numpy array with the shape `(N, height)`, and the `bool` dtype. This is the output of the `get_is_row_inky` function that you implemented before.\n",
    "    \n",
    "and returns the following:\n",
    "\n",
    "* `first_ink_rows`: A numpy array with the shape `(N,)`, and the `int64` dtype. \n",
    "    * `first_ink_rows[i]` is the index of the first row containing any ink pixel in the `i`th image. The indices should be **zero-based**."
   ]
  },
  {
   "cell_type": "code",
   "execution_count": null,
   "metadata": {
    "deletable": false
   },
   "outputs": [],
   "source": [
    "def get_first_ink_row_index(is_row_inky):\n",
    "    \"\"\"\n",
    "     Finds the first row containing ink pixels\n",
    "\n",
    "        Parameters:\n",
    "                is_row_inky (np.array): A numpy array with the shape (N, height), and the bool dtype. \n",
    "                This is the output of the get_is_row_inky function that you implemented before.\n",
    "                \n",
    "        Returns:\n",
    "                first_ink_rows (np.array): A numpy array with the shape (N,), and the int64 dtype. \n",
    "    \"\"\"\n",
    "    \n",
    "    # your code here\n",
    "    first_ink_rows = np.argmax(is_row_inky, axis=1)\n",
    "    \n",
    "    return first_ink_rows"
   ]
  },
  {
   "cell_type": "code",
   "execution_count": null,
   "metadata": {
    "deletable": false,
    "editable": false,
    "nbgrader": {
     "cell_type": "code",
     "checksum": "1bc4f0b3618a25e5e9b037f6b40f6d1c",
     "grade": false,
     "grade_id": "cell-f39e01fbdd2399ee",
     "locked": true,
     "schema_version": 3,
     "solution": false,
     "task": false
    }
   },
   "outputs": [],
   "source": [
    "# Performing sanity checks on your implementation\n",
    "assert np.array_equal(get_first_ink_row_index(get_is_row_inky(train_images_threshed[:10,:,:])), \n",
    "                      np.array([5, 4, 5, 5, 7, 5, 4, 5, 5, 4]))\n"
   ]
  },
  {
   "cell_type": "code",
   "execution_count": null,
   "metadata": {
    "code_folding": [
     20
    ],
    "deletable": false,
    "editable": false,
    "nbgrader": {
     "cell_type": "code",
     "checksum": "278e506e6cd29976cb24ae522c1d9ba4",
     "grade": true,
     "grade_id": "cell-6be2035fcf9ddb75",
     "locked": true,
     "points": 10,
     "schema_version": 3,
     "solution": false,
     "task": false
    }
   },
   "outputs": [],
   "source": [
    "# This cell is left empty as a seperator. You can leave this cell as it is, and you should not delete it.\n"
   ]
  },
  {
   "cell_type": "code",
   "execution_count": null,
   "metadata": {
    "deletable": false,
    "editable": false,
    "nbgrader": {
     "cell_type": "code",
     "checksum": "c9cc692e124888f9f2f49aa0f715c1a1",
     "grade": false,
     "grade_id": "cell-8cac16e5c557bd7a",
     "locked": true,
     "schema_version": 3,
     "solution": false,
     "task": false
    }
   },
   "outputs": [],
   "source": [
    "# Checking against the pre-computed test database\n",
    "test_results = test_case_checker(get_first_ink_row_index, task_id=4)\n",
    "assert test_results['passed'], test_results['message']"
   ]
  },
  {
   "cell_type": "markdown",
   "metadata": {
    "deletable": false,
    "editable": false,
    "nbgrader": {
     "cell_type": "markdown",
     "checksum": "ed9ffba4ac953a761cbc606744bfacfc",
     "grade": false,
     "grade_id": "cell-2218eab105df22bc",
     "locked": true,
     "schema_version": 3,
     "solution": false,
     "task": false
    }
   },
   "source": [
    "### 0.3.3.2 Getting the First Inky Columns"
   ]
  },
  {
   "cell_type": "markdown",
   "metadata": {
    "deletable": false,
    "editable": false,
    "nbgrader": {
     "cell_type": "markdown",
     "checksum": "31295c8e98107016ee88349f836c44db",
     "grade": false,
     "grade_id": "cell-6da0041941d988ef",
     "locked": true,
     "schema_version": 3,
     "solution": false,
     "task": false
    }
   },
   "source": [
    "Since `is_row_inky` and `is_col_inky` have the same data structure, we could re-use the `get_first_ink_row_index` to define a corresponding function `get_first_ink_col_index` for columns; both of them have the same functionality and are essentially the same."
   ]
  },
  {
   "cell_type": "code",
   "execution_count": null,
   "metadata": {
    "deletable": false,
    "editable": false,
    "nbgrader": {
     "cell_type": "code",
     "checksum": "173c1268cbf984504ea3a1f91749d00c",
     "grade": false,
     "grade_id": "cell-2fb693471f56cb6d",
     "locked": true,
     "schema_version": 3,
     "solution": false,
     "task": false
    }
   },
   "outputs": [],
   "source": [
    "def get_first_ink_col_index(is_col_inky):\n",
    "    return get_first_ink_row_index(is_col_inky)"
   ]
  },
  {
   "cell_type": "markdown",
   "metadata": {
    "deletable": false,
    "editable": false,
    "nbgrader": {
     "cell_type": "markdown",
     "checksum": "966336d0a84397bb0178241b42068527",
     "grade": false,
     "grade_id": "cell-372d62b933136c16",
     "locked": true,
     "schema_version": 3,
     "solution": false,
     "task": false
    }
   },
   "source": [
    "### 0.3.4.1 Getting the Last Inky Rows"
   ]
  },
  {
   "cell_type": "markdown",
   "metadata": {
    "deletable": false,
    "editable": false,
    "nbgrader": {
     "cell_type": "markdown",
     "checksum": "01c1a567e0c9ac4b1c6575a25256380f",
     "grade": false,
     "grade_id": "cell-7cdde8a43df583b8",
     "locked": true,
     "schema_version": 3,
     "solution": false,
     "task": false
    }
   },
   "source": [
    "Write the function `get_last_ink_row_index` that finds the last row containing ink pixels and takes following the arguments:\n",
    "\n",
    "* `is_row_inky`: A numpy array with the shape `(N, height)`, and the `bool` dtype. This is the output of the `get_is_row_inky` function that you implemented before.\n",
    "    \n",
    "and returns the following:\n",
    "\n",
    "* `last_ink_rows`: A numpy array with the shape `(N,)`, and the `int64` dtype. \n",
    "    * `last_ink_rows[i]` is the index of the last row containing any ink pixel in the `i`th image. The indices should be **zero-based**."
   ]
  },
  {
   "cell_type": "code",
   "execution_count": 1,
   "metadata": {
    "deletable": false
   },
   "outputs": [],
   "source": [
    "def get_last_ink_row_index(is_row_inky):\n",
    "    \"\"\"\n",
    "    Finds the last row containing ink pixels.\n",
    "\n",
    "        Parameters:\n",
    "                is_row_inky (np.array): A numpy array with the shape (N, height), and the bool dtype. \n",
    "                This is the output of the get_is_row_inky function that you implemented before.\n",
    "                \n",
    "        Returns:\n",
    "                last_ink_rows (np.array): A numpy array with the shape (N,), and the int64 dtype. \n",
    "    \"\"\"\n",
    "    \n",
    "    # your code here\n",
    "    N,h = is_row_inky.shape\n",
    "    last_ink_rows=[]\n",
    "    for i in range(0,N):\n",
    "        last_ink_rows.appned(np.max(np.nonzero(is_row_inky[i])))\n",
    "    last_ink_rows = np.array(last_ink_rows)\n",
    "    \n",
    "    return last_ink_rows"
   ]
  },
  {
   "cell_type": "code",
   "execution_count": 3,
   "metadata": {
    "code_folding": [
     20
    ],
    "deletable": false,
    "editable": false,
    "nbgrader": {
     "cell_type": "code",
     "checksum": "0a1cb3ee1ee289e3ebc89f4f113958b5",
     "grade": true,
     "grade_id": "cell-738ac77a1163abc3",
     "locked": true,
     "points": 10,
     "schema_version": 3,
     "solution": false,
     "task": false
    }
   },
   "outputs": [],
   "source": [
    "# This cell is left empty as a seperator. You can leave this cell as it is, and you should not delete it.\n"
   ]
  },
  {
   "cell_type": "markdown",
   "metadata": {
    "deletable": false,
    "editable": false,
    "nbgrader": {
     "cell_type": "markdown",
     "checksum": "1d7fe6876f019463ffea519482cdb677",
     "grade": false,
     "grade_id": "cell-630e7884d9b55707",
     "locked": true,
     "schema_version": 3,
     "solution": false,
     "task": false
    }
   },
   "source": [
    "### 0.3.4.2 Getting the Last Inky Columns"
   ]
  },
  {
   "cell_type": "markdown",
   "metadata": {
    "deletable": false,
    "editable": false,
    "nbgrader": {
     "cell_type": "markdown",
     "checksum": "a4e0de7298ffd4fc007b0b754e303857",
     "grade": false,
     "grade_id": "cell-75d1eab91936b562",
     "locked": true,
     "schema_version": 3,
     "solution": false,
     "task": false
    }
   },
   "source": [
    "Since `is_row_inky` and `is_col_inky` have the same data structure, we could re-use the `get_last_ink_row_index` to define a corresponding function `get_last_ink_col_index` for columns; both of them have the same functionality and are essentially the same."
   ]
  },
  {
   "cell_type": "code",
   "execution_count": null,
   "metadata": {
    "deletable": false,
    "editable": false,
    "nbgrader": {
     "cell_type": "code",
     "checksum": "02d7e4e4bfd96f6724ef2fcaa39ab54e",
     "grade": false,
     "grade_id": "cell-0dc79aa3313d092a",
     "locked": true,
     "schema_version": 3,
     "solution": false,
     "task": false
    }
   },
   "outputs": [],
   "source": [
    "def get_last_ink_col_index(is_col_inky):\n",
    "    return get_last_ink_row_index(is_col_inky)"
   ]
  },
  {
   "cell_type": "markdown",
   "metadata": {
    "deletable": false,
    "editable": false,
    "nbgrader": {
     "cell_type": "markdown",
     "checksum": "a352627e2521a151c22fcc6de0b067d7",
     "grade": false,
     "grade_id": "cell-555b8968ccb065a1",
     "locked": true,
     "schema_version": 3,
     "solution": false,
     "task": false
    }
   },
   "source": [
    "### 0.3.5 The Final \"Bounding Box\" Pre-processor"
   ]
  },
  {
   "cell_type": "markdown",
   "metadata": {
    "deletable": false,
    "editable": false,
    "nbgrader": {
     "cell_type": "markdown",
     "checksum": "d5dc731f9a9d22911b90a18278b76b39",
     "grade": false,
     "grade_id": "cell-736c6f0821296e5d",
     "locked": true,
     "schema_version": 3,
     "solution": false,
     "task": false
    }
   },
   "source": [
    "The function `get_images_bb` that applies the \"Bounding Box\" pre-processing step and takes the following arguments:\n",
    "\n",
    "* `images`: A numpy array with the shape `(N,height,width)`, where \n",
    "    * `N` is the number of samples and could be anything,\n",
    "    * `height` is each individual image's height in pixels (i.e., number of rows in each image),\n",
    "    * and `width` is each individual image's width in pixels (i.e., number of columns in each image).\n",
    "   \n",
    "    Do not assume anything about `images`'s dtype or number of samples.\n",
    "    \n",
    "* `bb_size`: A scalar with the default value of 20, and represents the desired bounding box size.\n",
    "\n",
    "and returns the following:\n",
    "\n",
    "* `images_bb`: A numpy array with the shape `(N,bb_size,bb_size)`, and the same dtype as `images`. \n",
    "\n",
    "We have provided a template function that uses the previous functions and only requires you to fill in the missing parts. It also handles the input shapes in an agnostic way.\n",
    "\n",
    "**Important Note**: Make sure that you use the `np.roll` function for this implementation."
   ]
  },
  {
   "cell_type": "markdown",
   "metadata": {
    "deletable": false,
    "editable": false,
    "nbgrader": {
     "cell_type": "markdown",
     "checksum": "40b97b46d63085a58d8ba36db4e7ac5b",
     "grade": false,
     "grade_id": "cell-4187c7f062b63317",
     "locked": true,
     "schema_version": 3,
     "solution": false,
     "task": false
    }
   },
   "source": [
    "**Clarification with Example**: Here we will describe in exact details how to produce the output image.\n",
    "\n",
    "Let's focus on a single raw image, and let's call it `X`. We wish to produce the output image `Y`. Let's assume `X` has a `height` and a `width` of 28, and `bb_size` is 20. This means that `X` has a shape of `(28,28)` and `Y` has a shape of `(20,20)`. As a visual example, we'll assume that `X` is the left image (i.e., the raw image) shown below, and `Y` is the right image (i.e., the solution image). \n",
    "\n",
    "![alt text](../ClassifyingImages-lib/bb_example.png \"Bounding Box Definitions\")\n",
    "\n",
    "Let's define the first/last inky rows with an example:\n",
    " * The **first inky row** of `X` has an index of $r_1$. In the picture example, we have $r_1=6$. This means that `X[5,:]` has no ink in it, and `X[6,:]` has some ink elements in it.\n",
    " * The **last inky row** of `X` has an index of $r_2$. In the picture example, we have $r_2=25$. This means that `X[25,:]` has some ink in it, and `X[26,:]` has no ink in it.\n",
    " \n",
    "Let's define the first/last inky columns in a similar manner:\n",
    " * The **first inky column** of `X` has an index of $c_1$. In the picture example, we have $c_1=5$. This means that `X[:,4]` has no ink in it, and `X[:,5]` has some ink elements in it.\n",
    " * The **last inky column** of `X` has an index of $c_2$. In the picture example, we have $c_2=20$. This means that `X[:,20]` has some ink in it, and `X[:,21]` has no ink in it.\n",
    " \n",
    " \n",
    "Now let's define the **inky middle row/column** of the raw image.\n",
    "\n",
    " * The **inky middle row** of the raw image is $r_m = \\lfloor \\frac{r_1 + r_2 + 1}{2} \\rfloor$. In this example, we have $r_m=16$, which is also shown in the picture.\n",
    " * The **inky middle column** of the raw image is $c_m = \\lfloor \\frac{c_1 + c_2 + 1}{2} \\rfloor$. In this example, we have $c_m=13$, which is also shown in the picture.\n",
    "\n",
    "\n",
    "The middle row index of the output image is $r_{out} = \\lfloor \\frac{\\text{bb_size}}{2} \\rfloor$. Similarly, we have the middle column index of the output image $c_{out} = \\lfloor \\frac{\\text{bb_size}}{2} \\rfloor$. In this example, we have $r_{out}=c_{out}=10$, which are marked with blue boxes in the solution image.\n",
    "\n",
    "The **middle inky pixel of the raw image** is `X[r_m, c_m]`. This middle inky pixel is colored red in the raw image for clarification.\n",
    "\n",
    "The **middle inky pixel of the solution image** is `Y[r_out, c_out]`. This middle inky pixel is colored red in the solution image for clarification\n",
    "\n",
    "You must shift the raw image in a way that the **middle inky pixel of the raw image** gets placed on the **middle inky pixel of the solution image**. In other words, the red pixels should be placed on top of each other.\n",
    "\n",
    "You will also have to cut some of rows/columns of the solution image properly to make sure it would have a shape of `(bb_size, bb_size)`. Furthermore, this whole discussion was for a single image, but you will have to take care of a batch of images as input, and produce a batch of bounded-box images as an output, and make sure all the dimensions/shapes work out properly."
   ]
  },
  {
   "cell_type": "code",
   "execution_count": null,
   "metadata": {
    "deletable": false
   },
   "outputs": [],
   "source": [
    "def get_images_bb(images, bb_size=20):\n",
    "    \"\"\"\n",
    "    Applies the \"Bounding Box\" pre-processing step to images.\n",
    "\n",
    "        Parameters:\n",
    "                images (np.array): A numpy array with the shape (N,height,width)\n",
    "                \n",
    "        Returns:\n",
    "                images_bb (np.array): A numpy array with the shape (N,bb_size,bb_size), \n",
    "                and the same dtype as images. \n",
    "    \"\"\"\n",
    "    \n",
    "    if len(images.shape)==2:\n",
    "        # In case a 2d image was given as input, we'll add a dummy dimension to be consistent\n",
    "        images_ = images.reshape(1,*images.shape)\n",
    "    else:\n",
    "        # Otherwise, we'll just work with what's given\n",
    "        images_ = images\n",
    "        \n",
    "    is_row_inky = get_is_row_inky(images_)\n",
    "    is_col_inky = get_is_col_inky(images_)\n",
    "    \n",
    "    first_ink_rows = get_first_ink_row_index(is_row_inky)\n",
    "    last_ink_rows = get_last_ink_row_index(is_row_inky)\n",
    "    first_ink_cols = get_first_ink_col_index(is_col_inky)\n",
    "    last_ink_cols = get_last_ink_col_index(is_col_inky)\n",
    "    \n",
    "    # your code here\n",
    "    \n",
    "        \n",
    "    if len(images.shape)==2:\n",
    "        # In case a 2d image was given as input, we'll get rid of the dummy dimension\n",
    "        return images_bb[0]\n",
    "    else:\n",
    "        # Otherwise, we'll just work with what's given\n",
    "        return images_bb"
   ]
  },
  {
   "cell_type": "code",
   "execution_count": null,
   "metadata": {
    "deletable": false,
    "editable": false,
    "nbgrader": {
     "cell_type": "code",
     "checksum": "b707eb646629a69b56e7d9939bfa32f0",
     "grade": true,
     "grade_id": "cell-3fdcf283e155ec87",
     "locked": true,
     "points": 0,
     "schema_version": 3,
     "solution": false,
     "task": false
    }
   },
   "outputs": [],
   "source": [
    "# This cell is left empty as a seperator. You can leave this cell as it is, and you should not delete it.\n"
   ]
  },
  {
   "cell_type": "code",
   "execution_count": null,
   "metadata": {
    "deletable": false,
    "editable": false,
    "nbgrader": {
     "cell_type": "code",
     "checksum": "f1082e7ecb561d080c317c8902d72468",
     "grade": false,
     "grade_id": "cell-688a2d189733cf8c",
     "locked": true,
     "schema_version": 3,
     "solution": false,
     "task": false
    }
   },
   "outputs": [],
   "source": [
    "(orig_image, ref_image, test_im, success_bb) = show_test_cases(get_images_bb, task_id='6_V')\n",
    "\n",
    "assert success_bb"
   ]
  },
  {
   "cell_type": "markdown",
   "metadata": {
    "deletable": false,
    "editable": false,
    "nbgrader": {
     "cell_type": "markdown",
     "checksum": "b92939b2b61b5358f663b69c7d285a8e",
     "grade": false,
     "grade_id": "cell-67f33b9eadff3e81",
     "locked": true,
     "schema_version": 3,
     "solution": false,
     "task": false
    }
   },
   "source": [
    "### **Warning**: \n",
    "Do not leave the previous cell hanging; unless you enter \"s\" to stop it, you cannot evaluate other cells."
   ]
  },
  {
   "cell_type": "code",
   "execution_count": null,
   "metadata": {
    "deletable": false,
    "editable": false,
    "nbgrader": {
     "cell_type": "code",
     "checksum": "9ef46307d3ddd51930ff73f50eaee2dd",
     "grade": true,
     "grade_id": "cell-afecd46075fa0cb1",
     "locked": true,
     "points": 10,
     "schema_version": 3,
     "solution": false,
     "task": false
    }
   },
   "outputs": [],
   "source": [
    "# This cell is left empty as a seperator. You can leave this cell as it is, and you should not delete it.\n"
   ]
  },
  {
   "cell_type": "code",
   "execution_count": null,
   "metadata": {
    "deletable": false,
    "editable": false,
    "nbgrader": {
     "cell_type": "code",
     "checksum": "785fe652f5e88dda1f79bc8738600021",
     "grade": false,
     "grade_id": "cell-6a5e3fc58baab6ba",
     "locked": true,
     "schema_version": 3,
     "solution": false,
     "task": false
    }
   },
   "outputs": [],
   "source": [
    "# Checking against the pre-computed test database\n",
    "test_results = test_case_checker(get_images_bb, task_id=6)\n",
    "assert test_results['passed'], test_results['message']"
   ]
  },
  {
   "cell_type": "code",
   "execution_count": null,
   "metadata": {
    "deletable": false,
    "editable": false,
    "nbgrader": {
     "cell_type": "code",
     "checksum": "b018c5058edc1357599859c67253e518",
     "grade": false,
     "grade_id": "cell-5bc3052305273c66",
     "locked": true,
     "schema_version": 3,
     "solution": false,
     "task": false
    }
   },
   "outputs": [],
   "source": [
    "train_images_bb = get_images_bb(train_images_threshed)\n",
    "eval_images_bb = get_images_bb(eval_images_threshed)"
   ]
  },
  {
   "cell_type": "markdown",
   "metadata": {
    "deletable": false,
    "editable": false,
    "nbgrader": {
     "cell_type": "markdown",
     "checksum": "608fca88f8dab330986e21943cd7b29f",
     "grade": false,
     "grade_id": "cell-b51a8121b0cbb7bc",
     "locked": true,
     "schema_version": 3,
     "solution": false,
     "task": false
    }
   },
   "source": [
    "### 0.3.6 The Final \"Stretched Bounding Box\" Pre-processor"
   ]
  },
  {
   "cell_type": "markdown",
   "metadata": {
    "deletable": false,
    "editable": false,
    "nbgrader": {
     "cell_type": "markdown",
     "checksum": "5d16ff78dd0208be5110d7fe662d9734",
     "grade": false,
     "grade_id": "cell-5f93e5c7525e8b45",
     "locked": true,
     "schema_version": 3,
     "solution": false,
     "task": false
    }
   },
   "source": [
    "The function `get_images_sbb` that applies the \"Stretched Bounding Box\" pre-processing step and takes following the arguments:\n",
    "\n",
    "* `images`: A numpy array with the shape `(N,height,width)`, where \n",
    "    * `N` is the number of samples and could be anything,\n",
    "    * `height` is each individual image's height in pixels (i.e., number of rows in each image),\n",
    "    * and `width` is each individual image's width in pixels (i.e., number of columns in each image).\n",
    "   \n",
    "    Do not assume anything about `images`'s dtype or number of samples.\n",
    "    \n",
    "* `bb_size`: A scalar with the default value of 20, and represents the desired bounding box size.\n",
    "\n",
    "and returns the following:\n",
    "\n",
    "* `images_sbb`: A numpy array with the shape `(N,bb_size,bb_size)`, and the same dtype and the range of values as `images`. \n",
    "\n",
    "\n",
    "The `get_images_sbb` should find a tight-canvas of the inky area in each input image, and stretch it out to fill the full height and width of the output bounding-box. Please see the visual example in the **Assignment Summary** section; the right image should supposedly be the `get_images_sbb` function's output.\n",
    "\n",
    "We have provided a template function that uses the previous functions and only requires you to fill in the missing parts. It also handles the input shapes in an agnostic way.\n",
    "\n",
    "**Hint**: Make sure that you use the `skimage.transform.resize` function from the skimage library. Read about it at https://scikit-image.org/docs/dev/api/skimage.transform.html?highlight=resize#skimage.transform.resize. You may need to pay attention to the `preserve_range` argument."
   ]
  },
  {
   "cell_type": "code",
   "execution_count": 1,
   "metadata": {
    "deletable": false
   },
   "outputs": [],
   "source": [
    "def get_images_sbb(images, bb_size=20):\n",
    "    \"\"\"\n",
    "    Applies the \"Stretched Bounding Box\" pre-processing step to images.\n",
    "\n",
    "        Parameters:\n",
    "                images (np.array): A numpy array with the shape (N,height,width)\n",
    "                \n",
    "        Returns:\n",
    "                images_sbb (np.array): A numpy array with the shape (N,bb_size,bb_size), \n",
    "                and the same dtype and the range of values as images. \n",
    "    \"\"\"\n",
    "    \n",
    "    if len(images.shape)==2:\n",
    "        # In case a 2d image was given as input, we'll add a dummy dimension to be consistent\n",
    "        images_ = images.reshape(1,*images.shape)\n",
    "    else:\n",
    "        # Otherwise, we'll just work with what's given\n",
    "        images_ = images\n",
    "        \n",
    "    is_row_inky = get_is_row_inky(images)\n",
    "    is_col_inky = get_is_col_inky(images)\n",
    "    \n",
    "    first_ink_rows = get_first_ink_row_index(is_row_inky)\n",
    "    last_ink_rows = get_last_ink_row_index(is_row_inky)\n",
    "    first_ink_cols = get_first_ink_col_index(is_col_inky)\n",
    "    last_ink_cols = get_last_ink_col_index(is_col_inky)\n",
    "    \n",
    "    # your code here\n",
    "    \n",
    "    images_sbb=[]\n",
    "    N,height,width = images_.shape\n",
    "    for i in range (0,N):\n",
    "        image = images_[i].copy()\n",
    "        image_cut = image[(first_ink_rows[i]):(last_ink_rows[i]+1),(first_ink_cols[i]):(last_ink_cols[i]+1)]\n",
    "        image_resize = resize(image_cut, [bb_size,bb_size], order=None, mode='reflect',cval=0,clip=True,preserve_range=True, anti_aliasing=None,anti_aliasing_sigma=None)\n",
    "        image_resize = image_resize.astype(image_cut.dtype)\n",
    "        images_sbb.append(image_resize)\n",
    "    \n",
    "    images_sbb = np.array(images_sbb)\n",
    "        \n",
    "    if len(images.shape)==2:\n",
    "        # In case a 2d image was given as input, we'll get rid of the dummy dimension\n",
    "        return images_sbb[0]\n",
    "    else:\n",
    "        # Otherwise, we'll just work with what's given\n",
    "        return images_sbb"
   ]
  },
  {
   "cell_type": "code",
   "execution_count": 2,
   "metadata": {
    "deletable": false,
    "editable": false,
    "nbgrader": {
     "cell_type": "code",
     "checksum": "f76f35b772004130888428c6b49a7cc5",
     "grade": true,
     "grade_id": "cell-210396549a85c710",
     "locked": true,
     "points": 0,
     "schema_version": 3,
     "solution": false,
     "task": false
    }
   },
   "outputs": [],
   "source": [
    "# This cell is left empty as a seperator. You can leave this cell as it is, and you should not delete it.\n"
   ]
  },
  {
   "cell_type": "code",
   "execution_count": 3,
   "metadata": {
    "deletable": false,
    "editable": false,
    "nbgrader": {
     "cell_type": "code",
     "checksum": "7e1d61395075cba61317930829d351d6",
     "grade": false,
     "grade_id": "cell-f0d806d7843ab574",
     "locked": true,
     "schema_version": 3,
     "solution": false,
     "task": false
    }
   },
   "outputs": [
    {
     "ename": "NameError",
     "evalue": "name 'show_test_cases' is not defined",
     "output_type": "error",
     "traceback": [
      "\u001b[0;31m---------------------------------------------------------------------------\u001b[0m",
      "\u001b[0;31mNameError\u001b[0m                                 Traceback (most recent call last)",
      "\u001b[0;32m/tmp/ipykernel_60/1888531653.py\u001b[0m in \u001b[0;36m<module>\u001b[0;34m\u001b[0m\n\u001b[0;32m----> 1\u001b[0;31m \u001b[0;34m(\u001b[0m\u001b[0morig_image\u001b[0m\u001b[0;34m,\u001b[0m \u001b[0mref_image\u001b[0m\u001b[0;34m,\u001b[0m \u001b[0mtest_im\u001b[0m\u001b[0;34m,\u001b[0m \u001b[0msuccess_sbb\u001b[0m\u001b[0;34m)\u001b[0m \u001b[0;34m=\u001b[0m \u001b[0mshow_test_cases\u001b[0m\u001b[0;34m(\u001b[0m\u001b[0mget_images_sbb\u001b[0m\u001b[0;34m,\u001b[0m \u001b[0mtask_id\u001b[0m\u001b[0;34m=\u001b[0m\u001b[0;34m'7_V'\u001b[0m\u001b[0;34m)\u001b[0m\u001b[0;34m\u001b[0m\u001b[0;34m\u001b[0m\u001b[0m\n\u001b[0m\u001b[1;32m      2\u001b[0m \u001b[0;34m\u001b[0m\u001b[0m\n\u001b[1;32m      3\u001b[0m \u001b[0;32massert\u001b[0m \u001b[0msuccess_sbb\u001b[0m\u001b[0;34m\u001b[0m\u001b[0;34m\u001b[0m\u001b[0m\n",
      "\u001b[0;31mNameError\u001b[0m: name 'show_test_cases' is not defined"
     ]
    }
   ],
   "source": [
    "(orig_image, ref_image, test_im, success_sbb) = show_test_cases(get_images_sbb, task_id='7_V')\n",
    "\n",
    "assert success_sbb"
   ]
  },
  {
   "cell_type": "markdown",
   "metadata": {
    "deletable": false,
    "editable": false,
    "nbgrader": {
     "cell_type": "markdown",
     "checksum": "38741333839a62ff006ddfd1631f64a1",
     "grade": false,
     "grade_id": "cell-4aca1c91a431c9c6",
     "locked": true,
     "schema_version": 3,
     "solution": false,
     "task": false
    }
   },
   "source": [
    "### **Warning**: \n",
    "Do not leave the previous cell hanging; unless you enter \"s\" to stop it, you cannot evaluate other cells."
   ]
  },
  {
   "cell_type": "code",
   "execution_count": null,
   "metadata": {
    "deletable": false,
    "editable": false,
    "nbgrader": {
     "cell_type": "code",
     "checksum": "bd5febd1bfa65ee66798d0227718bc38",
     "grade": true,
     "grade_id": "cell-4f6358be619925b2",
     "locked": true,
     "points": 10,
     "schema_version": 3,
     "solution": false,
     "task": false
    }
   },
   "outputs": [],
   "source": [
    "# This cell is left empty as a seperator. You can leave this cell as it is, and you should not delete it.\n"
   ]
  },
  {
   "cell_type": "code",
   "execution_count": null,
   "metadata": {
    "deletable": false,
    "editable": false,
    "nbgrader": {
     "cell_type": "code",
     "checksum": "1a7d1ad021e8a1c1c723ed927287a8fe",
     "grade": false,
     "grade_id": "cell-a564db1c89519cef",
     "locked": true,
     "schema_version": 3,
     "solution": false,
     "task": false
    }
   },
   "outputs": [],
   "source": [
    "# Checking against the pre-computed test database\n",
    "test_results = test_case_checker(get_images_sbb, task_id=7)\n",
    "assert test_results['passed'], test_results['message']"
   ]
  },
  {
   "cell_type": "code",
   "execution_count": null,
   "metadata": {
    "deletable": false,
    "editable": false,
    "nbgrader": {
     "cell_type": "code",
     "checksum": "c547052c544ebb995201f73274acb6ec",
     "grade": false,
     "grade_id": "cell-8972d40beaf12b63",
     "locked": true,
     "schema_version": 3,
     "solution": false,
     "task": false
    }
   },
   "outputs": [],
   "source": [
    "if perform_computation:\n",
    "    print('This is gonna take a while to finish...')\n",
    "    %time train_images_sbb = get_images_sbb(train_images_threshed)\n",
    "    %time eval_images_sbb = get_images_sbb(eval_images_threshed)"
   ]
  },
  {
   "cell_type": "markdown",
   "metadata": {
    "deletable": false,
    "editable": false,
    "nbgrader": {
     "cell_type": "markdown",
     "checksum": "c7e349b8a5720f40826eaae5074cab08",
     "grade": false,
     "grade_id": "cell-cad6ddcc1747c84f",
     "locked": true,
     "schema_version": 3,
     "solution": false,
     "task": false
    }
   },
   "source": [
    "# 1. Naive Bayes Performances"
   ]
  },
  {
   "cell_type": "markdown",
   "metadata": {
    "deletable": false,
    "editable": false,
    "nbgrader": {
     "cell_type": "markdown",
     "checksum": "957b6c58c6cf2b88e2c8b8a130082a47",
     "grade": false,
     "grade_id": "cell-02e85790ec7ff7a8",
     "locked": true,
     "schema_version": 3,
     "solution": false,
     "task": false
    }
   },
   "source": [
    "The function `train_nb_eval_acc` that trains Naive Bayes models and takes following the arguments:\n",
    "\n",
    "* `train_images`: A numpy array with the shape `(N,height,width)`, where \n",
    "    * `N` is the number of samples and could be anything,\n",
    "    * `height` is each individual image's height in pixels (i.e., number of rows in each image),\n",
    "    * and `width` is each individual image's width in pixels (i.e., number of columns in each image).\n",
    " \n",
    "    Do not assume anything about `images`'s dtype or number of samples.\n",
    "\n",
    "* `train_labels`: A numpy array with the shape `(N,)`, where `N` is the number of samples and has the `int64` dtype.\n",
    "\n",
    "* `eval_images`: The evaluation images with similar characteristics to `train_images`.\n",
    "\n",
    "* `eval_labels`: The evaluation labels with similar characteristics to `train_labels`.\n",
    "    \n",
    "* `density_model`: A string that is either `'Gaussian'` or `'Bernoulli'`. In the former (resp. latter) case, you should train a Naive Bayes with the Gaussian (resp. Bernoulli) density model.\n",
    "\n",
    "and returns the following:\n",
    "\n",
    "* `eval_acc`: a floating number scalar between 0 and 1 that represents the accuracy of the trained model on the evaluation data.\n",
    "\n",
    "We have provided a template function that uses the previous functions and only requires you to fill in the missing parts. It also handles the input shapes in an agnostic way.\n",
    "\n",
    "**Note**: You do not need to implement the Naive Bayes classifier from scratch in this assignment; Make sure you use `scikit-learn`'s Naive Bayes module for training and prediction in this task. We have already imported these two functions in the first code cell:\n",
    "\n",
    "  * `from sklearn.naive_bayes import GaussianNB, BernoulliNB`"
   ]
  },
  {
   "cell_type": "code",
   "execution_count": null,
   "metadata": {
    "deletable": false
   },
   "outputs": [],
   "source": [
    "def train_nb_eval_acc(train_images, train_labels, eval_images, eval_labels, density_model='Gaussian'):\n",
    "    \"\"\"\n",
    "    Trains Naive Bayes models, apply the model, and return an accuracy.\n",
    "\n",
    "        Parameters:\n",
    "                train_images (np.array): A numpy array with the shape (N,height,width)\n",
    "                train_labels (np.array): A numpy array with the shape (N,), where N is the number of samples and \n",
    "                has the int64 dtype.\n",
    "                eval_images (np.array): The evaluation images with similar characteristics to train_images.\n",
    "                eval_labels (np.array): The evaluation labels with similar characteristics to train_labels.\n",
    "                density_model (string): A string that is either 'Gaussian' or 'Bernoulli'. \n",
    "                \n",
    "        Returns:\n",
    "                eval_acc (np.float): a floating number scalar between 0 and 1 that \n",
    "                represents the accuracy of the trained model on the evaluation data.\n",
    "    \"\"\"\n",
    "    \n",
    "    assert density_model in ('Gaussian', 'Bernoulli')\n",
    "    \n",
    "    # your code here\n",
    "    \n",
    "    train_images = train_images.reshape(train_images.shape[0], -1)\n",
    "    eval_images = eval_images.reshape(eval_images.shape[0], -1)\n",
    "    \n",
    "    gnb = GaussianNB()\n",
    "    gnb.fit(train_images, train_labels)\n",
    "    \n",
    "    y = gnb.predict(eval_images)\n",
    "    eval_acc = (eval_labels==y).mean()\n",
    "    \n",
    "    return eval_acc\n",
    "\n",
    "# Don't mind the following lines and do not change them\n",
    "train_nb_eval_acc_gauss = lambda *args, **kwargs: train_nb_eval_acc(*args, density_model='Gaussian', **kwargs)\n",
    "train_nb_eval_acc_bern = lambda *args, **kwargs: train_nb_eval_acc(*args, density_model='Bernoulli', **kwargs)"
   ]
  },
  {
   "cell_type": "code",
   "execution_count": null,
   "metadata": {
    "deletable": false,
    "editable": false,
    "nbgrader": {
     "cell_type": "code",
     "checksum": "e621b270b7166d44fb38c0bec76c7bff",
     "grade": true,
     "grade_id": "cell-42574318d47f3273",
     "locked": true,
     "points": 10,
     "schema_version": 3,
     "solution": false,
     "task": false
    }
   },
   "outputs": [],
   "source": [
    "# This cell is left empty as a seperator. You can leave this cell as it is, and you should not delete it.\n"
   ]
  },
  {
   "cell_type": "code",
   "execution_count": null,
   "metadata": {
    "deletable": false,
    "editable": false,
    "nbgrader": {
     "cell_type": "code",
     "checksum": "2c86b5d30ed597ab97810513073eb646",
     "grade": false,
     "grade_id": "cell-5562adab6c8f82e8",
     "locked": true,
     "schema_version": 3,
     "solution": false,
     "task": false
    }
   },
   "outputs": [],
   "source": [
    "# Checking against the pre-computed test database\n",
    "test_results = test_case_checker(train_nb_eval_acc_gauss, task_id='8_G')\n",
    "assert test_results['passed'], test_results['message'] # Gaussian Model Test Results\n",
    "\n",
    "test_results = test_case_checker(train_nb_eval_acc_bern, task_id='8_B')\n",
    "assert test_results['passed'], test_results['message'] # Bernoulli Model Test Results"
   ]
  },
  {
   "cell_type": "code",
   "execution_count": null,
   "metadata": {
    "deletable": false,
    "editable": false,
    "nbgrader": {
     "cell_type": "code",
     "checksum": "3347c932768b8f50fa7eb8ca62f18509",
     "grade": false,
     "grade_id": "cell-93f0e552999e43f4",
     "locked": true,
     "schema_version": 3,
     "solution": false,
     "task": false
    }
   },
   "outputs": [],
   "source": [
    "df = None\n",
    "if perform_computation:\n",
    "    acc_nbg_thr = train_nb_eval_acc(train_images_threshed, train_labels, \n",
    "                                    eval_images_threshed, eval_labels, density_model='Gaussian')\n",
    "    acc_nbb_thr = train_nb_eval_acc(train_images_threshed, train_labels, \n",
    "                                    eval_images_threshed, eval_labels, density_model='Bernoulli')\n",
    "    acc_nbg_sbb = train_nb_eval_acc(train_images_sbb, train_labels, \n",
    "                                    eval_images_sbb, eval_labels, density_model='Gaussian')\n",
    "    acc_nbb_sbb = train_nb_eval_acc(train_images_sbb, train_labels, \n",
    "                                    eval_images_sbb, eval_labels, density_model='Bernoulli')\n",
    "\n",
    "    df = pd.DataFrame([('Untouched images', acc_nbg_thr, acc_nbb_thr),\n",
    "                       ('Stretched bounding box', acc_nbg_sbb, acc_nbb_sbb)\n",
    "                      ], columns = ['Accuracy' , 'Gaussian', 'Bernoulli'])\n",
    "\n",
    "df"
   ]
  },
  {
   "cell_type": "markdown",
   "metadata": {
    "deletable": false,
    "editable": false,
    "nbgrader": {
     "cell_type": "markdown",
     "checksum": "9f61826962a30030d3dc19d8a47c2117",
     "grade": false,
     "grade_id": "cell-f4f59a5f0aaed26e",
     "locked": true,
     "schema_version": 3,
     "solution": false,
     "task": false
    }
   },
   "source": [
    "# 2. Decision Forests Performances"
   ]
  },
  {
   "cell_type": "markdown",
   "metadata": {
    "deletable": false,
    "editable": false,
    "nbgrader": {
     "cell_type": "markdown",
     "checksum": "6d9646da1e15da366675e3a05c447422",
     "grade": false,
     "grade_id": "cell-ded0fd4b4873dfb2",
     "locked": true,
     "schema_version": 3,
     "solution": false,
     "task": false
    }
   },
   "source": [
    "The function `train_tree_eval_acc` that trains Decision Forest models and takes following the arguments:\n",
    "\n",
    "* `train_images`: A numpy array with the shape `(N,height,width)`, where \n",
    "    * `N` is the number of samples and could be anything,\n",
    "    * `height` is each individual image's height in pixels (i.e., number of rows in each image),\n",
    "    * and `width` is each individual image's width in pixels (i.e., number of columns in each image).\n",
    " \n",
    "    Do not assume anything about `images`'s dtype or number of samples.\n",
    "\n",
    "* `train_labels`: A numpy array with the shape `(N,)`, where `N` is the number of samples and has the `int64` dtype.\n",
    "\n",
    "* `eval_images`: The evaluation images with similar characteristics to `train_images`.\n",
    "\n",
    "* `eval_labels`: The evaluation labels with similar characteristics to `eval_labels`.\n",
    "    \n",
    "* `tree_num`: An integer number representing the number of trees in the dicision forest.\n",
    "\n",
    "* `tree_depth`: An integer number representing the maximum tree depth in the dicision forest.\n",
    "\n",
    "* `random_state`: An integer with a default value of 12345 that should be passed to the scikit-learn's classifer constructor for reproducibility and auto-grading (**Do not assume** that it is always 12345).\n",
    "\n",
    "and returns the following:\n",
    "\n",
    "* `eval_acc`: A floating number scalar between 0 and 1 that represents the accuracy of the trained model on the evaluation data.\n",
    "\n",
    "We have provided a template function that uses the previous functions and only requires you to fill in the missing parts. It also handles the input shapes in an agnostic way.\n",
    "\n",
    "**Note**: You do not need to implement the Random Forest classifier from scratch in this assignment; Make sure you use `scikit-learn`'s Random Forest module for training and prediction in this task. We have already imported this function in the first code cell:\n",
    "\n",
    "  * `from sklearn.ensemble import RandomForestClassifier`\n",
    "  * You may need to set \"shuffle = True\" due to a known sklearn issue."
   ]
  },
  {
   "cell_type": "code",
   "execution_count": null,
   "metadata": {
    "deletable": false
   },
   "outputs": [],
   "source": [
    "def train_tree_eval_acc(train_images, train_labels, eval_images, eval_labels, tree_num=10, tree_depth=4, random_state=12345):\n",
    "    \"\"\"\n",
    "    Trains Naive Bayes models, apply the model, and return an accuracy.\n",
    "\n",
    "        Parameters:\n",
    "                train_images (np.array): A numpy array with the shape (N,height,width)\n",
    "                train_labels (np.array): A numpy array with the shape (N,), where N is the number of samples and \n",
    "                has the int64 dtype.\n",
    "                eval_images (np.array): The evaluation images with similar characteristics to train_images.\n",
    "                eval_labels (np.array): The evaluation labels with similar characteristics to train_labels.\n",
    "                tree_num (int): An integer number representing the number of trees in the decision forest.\n",
    "                tree_depth (int): An integer number representing the maximum tree depth in the decision forest.\n",
    "                random_state (int): An integer with a default value of 12345 that should be passed to \n",
    "                the scikit-learn's classifer constructor for reproducibility and auto-grading\n",
    "                \n",
    "        Returns:\n",
    "                eval_acc (np.float): a floating number scalar between 0 and 1 that \n",
    "                represents the accuracy of the trained model on the evaluation data.\n",
    "    \"\"\"\n",
    "    \n",
    "    tree_num = int(tree_num)\n",
    "    tree_depth = int(tree_depth)\n",
    "    random_state = int(random_state)\n",
    "    \n",
    "    # your code here\n",
    "    N1,h1,w1 = train_images.shape\n",
    "    N2,h2,w2 = eval_images.shape\n",
    "    train_image = train_images.reshape((N1, h1*w1))\n",
    "    eval_image = eval_images.reshape((N2, h2*w2))\n",
    "    m = RandomForestClassifier(tree_num,\"gini\", tree_depth,2,1,0.0,\"auto\",None,0.0,None,True,False,None,random_state,0,False,None,0.0,None)\n",
    "    m = m.fit(train_image, train_labels)\n",
    "    eval_label_pred = m.predict(eval_image)\n",
    "    \n",
    "    eval_acc = m.score(eval_image,eval_labels) \n",
    "\n",
    "    \n",
    "    \n",
    "    return eval_acc"
   ]
  },
  {
   "cell_type": "code",
   "execution_count": null,
   "metadata": {
    "deletable": false,
    "editable": false,
    "nbgrader": {
     "cell_type": "code",
     "checksum": "d3c6d9cfaab455c5e49c7657903655d6",
     "grade": true,
     "grade_id": "cell-c8d9d34b4bd07408",
     "locked": true,
     "points": 10,
     "schema_version": 3,
     "solution": false,
     "task": false
    }
   },
   "outputs": [],
   "source": [
    "# This cell is left empty as a seperator. You can leave this cell as it is, and you should not delete it.\n"
   ]
  },
  {
   "cell_type": "code",
   "execution_count": null,
   "metadata": {
    "deletable": false,
    "editable": false,
    "nbgrader": {
     "cell_type": "code",
     "checksum": "052fb4ae7cf1d9309ba3c43a3748ce72",
     "grade": false,
     "grade_id": "cell-322c89b1d38fc17e",
     "locked": true,
     "schema_version": 3,
     "solution": false,
     "task": false
    }
   },
   "outputs": [],
   "source": [
    "# Checking against the pre-computed test database\n",
    "test_results = test_case_checker(train_tree_eval_acc, task_id=9)\n",
    "assert test_results['passed'], test_results['message']"
   ]
  },
  {
   "cell_type": "markdown",
   "metadata": {
    "deletable": false,
    "editable": false,
    "nbgrader": {
     "cell_type": "markdown",
     "checksum": "df18a4213a75a10ff173739764ba486b",
     "grade": false,
     "grade_id": "cell-cb5b11a6db60780e",
     "locked": true,
     "schema_version": 3,
     "solution": false,
     "task": false
    }
   },
   "source": [
    "## 2.1 Accuracy on the Untouched Images"
   ]
  },
  {
   "cell_type": "code",
   "execution_count": null,
   "metadata": {
    "deletable": false,
    "editable": false,
    "nbgrader": {
     "cell_type": "code",
     "checksum": "878306e88c09e04c0368677f5e12546f",
     "grade": false,
     "grade_id": "cell-801f5f2957be1f35",
     "locked": true,
     "schema_version": 3,
     "solution": false,
     "task": false
    }
   },
   "outputs": [],
   "source": [
    "df = None\n",
    "if perform_computation:\n",
    "    tree_nums = [10, 20, 30]\n",
    "    tree_depths = [4, 8, 16]\n",
    "\n",
    "    train_images = train_images_threshed\n",
    "    eval_images = eval_images_threshed\n",
    "    acc_arr_unt = np.zeros((len(tree_nums), len(tree_depths)))\n",
    "    for row, tree_num in enumerate(tree_nums):\n",
    "        for col, tree_depth in enumerate(tree_depths):\n",
    "            acc_arr_unt[row, col] = train_tree_eval_acc(train_images, train_labels, eval_images, eval_labels, \n",
    "                                                        tree_num=tree_num, tree_depth=tree_depth, random_state=12345)\n",
    "\n",
    "    df = pd.DataFrame([(f'#trees = {tree_num}', *tuple(acc_arr_unt[row])) for row, tree_num in enumerate(tree_nums)],\n",
    "                      columns = ['Accuracy'] + [f'depth={tree_depth}'for col, tree_depth in enumerate(tree_depths)])\n",
    "\n",
    "    print('Untouched Images:')\n",
    "df"
   ]
  },
  {
   "cell_type": "markdown",
   "metadata": {
    "deletable": false,
    "editable": false,
    "nbgrader": {
     "cell_type": "markdown",
     "checksum": "fc2dbb590fb44113abb06e779497a7c4",
     "grade": false,
     "grade_id": "cell-5cc7c4afea6e6013",
     "locked": true,
     "schema_version": 3,
     "solution": false,
     "task": false
    }
   },
   "source": [
    "## 2.2 Accuracy on the \"Stretched Bounding Box\" Images"
   ]
  },
  {
   "cell_type": "code",
   "execution_count": null,
   "metadata": {
    "deletable": false,
    "editable": false,
    "nbgrader": {
     "cell_type": "code",
     "checksum": "3729b41fb1ce6efa5785c8458a4af6f6",
     "grade": false,
     "grade_id": "cell-fdad3ac8c18b29aa",
     "locked": true,
     "schema_version": 3,
     "solution": false,
     "task": false
    }
   },
   "outputs": [],
   "source": [
    "df = None\n",
    "if perform_computation:\n",
    "    tree_nums = [10, 20, 30]\n",
    "    tree_depths = [4, 8, 16]\n",
    "\n",
    "    train_images = train_images_sbb\n",
    "    eval_images = eval_images_sbb\n",
    "    acc_arr_sbb = np.zeros((len(tree_nums), len(tree_depths)))\n",
    "    for row, tree_num in enumerate(tree_nums):\n",
    "        for col, tree_depth in enumerate(tree_depths):\n",
    "            acc_arr_sbb[row, col] = train_tree_eval_acc(train_images, train_labels, eval_images, eval_labels, \n",
    "                                                        tree_num=tree_num, tree_depth=tree_depth, random_state=12345)\n",
    "\n",
    "    df = pd.DataFrame([(f'#trees = {tree_num}', *tuple(acc_arr_sbb[row])) for row, tree_num in enumerate(tree_nums)],\n",
    "                      columns = ['Accuracy'] + [f'depth = {tree_depth}'for col, tree_depth in enumerate(tree_depths)])\n",
    "\n",
    "    print('Stretched Bounding Box Images:')\n",
    "df"
   ]
  },
  {
   "cell_type": "markdown",
   "metadata": {
    "deletable": false,
    "editable": false,
    "nbgrader": {
     "cell_type": "markdown",
     "checksum": "48b16ffb1407078d8ae6980d4603bcdd",
     "grade": false,
     "grade_id": "cell-67a9dd907f439c03",
     "locked": true,
     "schema_version": 3,
     "solution": false,
     "task": false
    }
   },
   "source": [
    "## 2.3 Accuracy on the \"Bounding Box\" Images"
   ]
  },
  {
   "cell_type": "code",
   "execution_count": null,
   "metadata": {
    "deletable": false,
    "editable": false,
    "nbgrader": {
     "cell_type": "code",
     "checksum": "a524054e14e41b2f73d4e640cf0b5a68",
     "grade": false,
     "grade_id": "cell-c81e604f57d8f287",
     "locked": true,
     "schema_version": 3,
     "solution": false,
     "task": false
    }
   },
   "outputs": [],
   "source": [
    "df = None\n",
    "if perform_computation:\n",
    "    tree_nums = [10, 20, 30]\n",
    "    tree_depths = [4, 8, 16]\n",
    "\n",
    "    train_images = train_images_bb\n",
    "    eval_images = eval_images_bb\n",
    "    acc_arr_bb = np.zeros((len(tree_nums), len(tree_depths)))\n",
    "    for row, tree_num in enumerate(tree_nums):\n",
    "        for col, tree_depth in enumerate(tree_depths):\n",
    "            acc_arr_bb[row, col] = train_tree_eval_acc(train_images, train_labels, eval_images, eval_labels, \n",
    "                                                       tree_num=tree_num, tree_depth=tree_depth, random_state=12345)\n",
    "\n",
    "    df = pd.DataFrame([(f'#trees = {tree_num}', *tuple(acc_arr_bb[row])) for row, tree_num in enumerate(tree_nums)],\n",
    "                      columns = ['Accuracy'] + [f'depth = {tree_depth}'for col, tree_depth in enumerate(tree_depths)])\n",
    "\n",
    "    print('Bounding Box Images:')\n",
    "df"
   ]
  },
  {
   "cell_type": "code",
   "execution_count": null,
   "metadata": {},
   "outputs": [],
   "source": []
  },
  {
   "cell_type": "code",
   "execution_count": null,
   "metadata": {},
   "outputs": [],
   "source": []
  },
  {
   "cell_type": "code",
   "execution_count": null,
   "metadata": {},
   "outputs": [],
   "source": []
  },
  {
   "cell_type": "code",
   "execution_count": null,
   "metadata": {},
   "outputs": [],
   "source": []
  }
 ],
 "metadata": {
  "illinois_payload": {
   "b64z": "",
   "nb_path": "release/ClassifyingImages/ClassifyingImages.ipynb"
  },
  "kernelspec": {
   "display_name": "Python 3 (Threads: 2)",
   "language": "python",
   "name": "python3"
  },
  "language_info": {
   "codemirror_mode": {
    "name": "ipython",
    "version": 3
   },
   "file_extension": ".py",
   "mimetype": "text/x-python",
   "name": "python",
   "nbconvert_exporter": "python",
   "pygments_lexer": "ipython3",
   "version": "3.11.0"
  }
 },
 "nbformat": 4,
 "nbformat_minor": 4
}
