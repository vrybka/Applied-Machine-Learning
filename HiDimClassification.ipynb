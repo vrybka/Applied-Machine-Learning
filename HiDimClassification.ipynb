{
 "cells": [
  {
   "cell_type": "code",
   "execution_count": 1,
   "metadata": {
    "deletable": false,
    "editable": false,
    "nbgrader": {
     "cell_type": "code",
     "checksum": "c0f7c4741be008c1369c54db97decf85",
     "grade": false,
     "grade_id": "cell-c5e929b25d638734",
     "locked": true,
     "schema_version": 3,
     "solution": false,
     "task": false
    }
   },
   "outputs": [],
   "source": [
    "%matplotlib inline\n",
    "%load_ext autoreload\n",
    "%autoreload 2\n",
    "\n",
    "import matplotlib.pyplot as plt\n",
    "import numpy as np\n",
    "import seaborn as sns\n",
    "import pandas as pd\n",
    "import os\n",
    "from zipfile import ZipFile\n",
    "import shutil\n",
    "from sklearn.cluster import KMeans\n",
    "from sklearn.ensemble import RandomForestClassifier\n",
    "\n",
    "from aml_utils import test_case_checker, perform_computation"
   ]
  },
  {
   "cell_type": "markdown",
   "metadata": {
    "deletable": false,
    "editable": false,
    "nbgrader": {
     "cell_type": "markdown",
     "checksum": "12c5c5ef0b24af9d3cab58514a1d4d30",
     "grade": false,
     "grade_id": "cell-00f99099f1e1bd81",
     "locked": true,
     "schema_version": 3,
     "solution": false,
     "task": false
    }
   },
   "source": [
    "# 0. Data"
   ]
  },
  {
   "cell_type": "markdown",
   "metadata": {
    "deletable": false,
    "editable": false,
    "nbgrader": {
     "cell_type": "markdown",
     "checksum": "345b53e3c269d749061bfbd3c13bb3e5",
     "grade": false,
     "grade_id": "cell-0604fca81520b642",
     "locked": true,
     "schema_version": 3,
     "solution": false,
     "task": false
    }
   },
   "source": [
    "## 0.1 Description"
   ]
  },
  {
   "cell_type": "markdown",
   "metadata": {
    "deletable": false,
    "editable": false,
    "nbgrader": {
     "cell_type": "markdown",
     "checksum": "414af5ad7081b42cd27261ff71c0599c",
     "grade": false,
     "grade_id": "cell-4af88cf542531eed",
     "locked": true,
     "schema_version": 3,
     "solution": false,
     "task": false
    }
   },
   "source": [
    "We'll use the activities of daily life dataset from the UC Irvine machine learning website (https://archive.ics.uci.edu/ml/datasets/Dataset+for+ADL+Recognition+with+Wrist-worn+Accelerometer).\n",
    "The data was provided by Barbara Bruno, Fulvio Mastrogiovanni and Antonio Sgorbissa"
   ]
  },
  {
   "cell_type": "markdown",
   "metadata": {
    "deletable": false,
    "editable": false,
    "nbgrader": {
     "cell_type": "markdown",
     "checksum": "668f309034e25240bbde07b31aa9d75c",
     "grade": false,
     "grade_id": "cell-39997080688c8fb6",
     "locked": true,
     "schema_version": 3,
     "solution": false,
     "task": false
    }
   },
   "source": [
    "## 0.2 Information Summary"
   ]
  },
  {
   "cell_type": "markdown",
   "metadata": {
    "deletable": false,
    "editable": false,
    "nbgrader": {
     "cell_type": "markdown",
     "checksum": "d7d47a20bcde1afa5bec69b9fa8466ab",
     "grade": false,
     "grade_id": "cell-03e1d8e2551d2833",
     "locked": true,
     "schema_version": 3,
     "solution": false,
     "task": false
    }
   },
   "source": [
    "* **Input/Output**: The data includes 14 directories, each of which represents a certain daily activity. There are 839 accelerometer recordings in the dataset, each with 3 columns and some number of rows. The sampling frequency of the device was 32 samples per second.\n",
    "\n",
    "* **Missing Data**: There is no missing data. However, the data is not very well balanced, and some categories have really small amounts of data.\n",
    "\n",
    "* **Final Goal**: We want to build a classifier using vector quantization and other techniques."
   ]
  },
  {
   "cell_type": "markdown",
   "metadata": {
    "deletable": false,
    "editable": false,
    "nbgrader": {
     "cell_type": "markdown",
     "checksum": "f46c0b52d5d08aa4981f84aa943d4ee7",
     "grade": false,
     "grade_id": "cell-9861ea999ef9cee6",
     "locked": true,
     "schema_version": 3,
     "solution": false,
     "task": false
    }
   },
   "source": [
    "## 0.3 Loading the Data"
   ]
  },
  {
   "cell_type": "code",
   "execution_count": 2,
   "metadata": {
    "deletable": false,
    "editable": false,
    "nbgrader": {
     "cell_type": "code",
     "checksum": "9cf2d562ca9b570501390ed3d8377938",
     "grade": false,
     "grade_id": "cell-affdcdeed9095d01",
     "locked": true,
     "schema_version": 3,
     "solution": false,
     "task": false
    }
   },
   "outputs": [],
   "source": [
    "# Let's extract the data\n",
    "with ZipFile('../HiDimClassification-lib/hmpdata.zip', 'r') as zipObj:\n",
    "    zipObj.extractall()"
   ]
  },
  {
   "cell_type": "code",
   "execution_count": 3,
   "metadata": {
    "deletable": false,
    "editable": false,
    "nbgrader": {
     "cell_type": "code",
     "checksum": "673dbfce7700cf797d5e67f52acb11c0",
     "grade": false,
     "grade_id": "cell-bc214472e4b1b38b",
     "locked": true,
     "schema_version": 3,
     "solution": false,
     "task": false
    }
   },
   "outputs": [],
   "source": [
    "# Loading the data into lists of lists\n",
    "col_labels = ['X','Y','Z']\n",
    "raw_txt_files = []\n",
    "activity_labels = ['Liedown_bed', 'Walk', 'Eat_soup', 'Getup_bed', 'Descend_stairs', \n",
    "                   'Use_telephone', 'Standup_chair', 'Brush_teeth', 'Climb_stairs', \n",
    "                   'Sitdown_chair', 'Eat_meat', 'Comb_hair', 'Drink_glass', 'Pour_water']\n",
    "\n",
    "for activity in activity_labels:\n",
    "    activity_txts = []\n",
    "    for file in os.listdir('./HMP_Dataset/'+activity):\n",
    "        txtdf = pd.read_csv('./HMP_Dataset/'+activity+'/'+file, names=col_labels,  sep=\" \")\n",
    "        activity_txts.append(txtdf)\n",
    "    raw_txt_files.append(activity_txts)"
   ]
  },
  {
   "cell_type": "code",
   "execution_count": 4,
   "metadata": {
    "deletable": false,
    "editable": false,
    "nbgrader": {
     "cell_type": "code",
     "checksum": "927a97e23854e2eb6c4d16ba05c396ba",
     "grade": false,
     "grade_id": "cell-79d02387ebfea2f4",
     "locked": true,
     "schema_version": 3,
     "solution": false,
     "task": false
    }
   },
   "outputs": [],
   "source": [
    "# Let's clean up after we're done\n",
    "shutil.rmtree('./HMP_Dataset')"
   ]
  },
  {
   "cell_type": "code",
   "execution_count": 5,
   "metadata": {
    "deletable": false,
    "editable": false,
    "nbgrader": {
     "cell_type": "code",
     "checksum": "4c810598337770a38018030e1d0e62ad",
     "grade": false,
     "grade_id": "cell-66aba36710b7e3be",
     "locked": true,
     "schema_version": 3,
     "solution": false,
     "task": false
    }
   },
   "outputs": [
    {
     "name": "stdout",
     "output_type": "stream",
     "text": [
      "Number of samples for each activity:\n",
      "    Liedown_bed: 28\n",
      "    Walk: 100\n",
      "    Eat_soup: 3\n",
      "    Getup_bed: 101\n",
      "    Descend_stairs: 42\n",
      "    Use_telephone: 13\n",
      "    Standup_chair: 102\n",
      "    Brush_teeth: 12\n",
      "    Climb_stairs: 102\n",
      "    Sitdown_chair: 100\n",
      "    Eat_meat: 5\n",
      "    Comb_hair: 31\n",
      "    Drink_glass: 100\n",
      "    Pour_water: 100\n",
      "Total number of samples: 839\n"
     ]
    }
   ],
   "source": [
    "print('Number of samples for each activity:')\n",
    "for activity, activity_txts in zip(activity_labels, raw_txt_files):\n",
    "    print(f'    {activity}: {len(activity_txts)}')\n",
    "print(f'Total number of samples: {sum(len(activity_txts) for activity_txts in raw_txt_files)}')"
   ]
  },
  {
   "cell_type": "markdown",
   "metadata": {
    "deletable": false,
    "editable": false,
    "nbgrader": {
     "cell_type": "markdown",
     "checksum": "78e4f041afe31dd7a0db80dfd754d5ea",
     "grade": false,
     "grade_id": "cell-da709655bfda346c",
     "locked": true,
     "schema_version": 3,
     "solution": false,
     "task": false
    }
   },
   "source": [
    "## 0.4 Creating a Random Train-Test Split"
   ]
  },
  {
   "cell_type": "markdown",
   "metadata": {
    "deletable": false,
    "editable": false,
    "nbgrader": {
     "cell_type": "markdown",
     "checksum": "695245860a839a8bd83ce879147276bf",
     "grade": false,
     "grade_id": "cell-391eb0b6f7e43607",
     "locked": true,
     "schema_version": 3,
     "solution": false,
     "task": false
    }
   },
   "source": [
    "It is not wise to out-source this train-test split to traditional sklearn functions as the data is a bit unique (not in a data matrix format), and also balancing the data in the small sample classes requires some delicacy."
   ]
  },
  {
   "cell_type": "code",
   "execution_count": 6,
   "metadata": {
    "deletable": false,
    "editable": false,
    "nbgrader": {
     "cell_type": "code",
     "checksum": "794902a1adc3f19e762a0bb56a8d0c4c",
     "grade": false,
     "grade_id": "cell-aae32f0d74f979b8",
     "locked": true,
     "schema_version": 3,
     "solution": false,
     "task": false
    }
   },
   "outputs": [],
   "source": [
    "test_portion = 0.2"
   ]
  },
  {
   "cell_type": "code",
   "execution_count": 7,
   "metadata": {
    "deletable": false,
    "editable": false,
    "nbgrader": {
     "cell_type": "code",
     "checksum": "fa5205ce8e880725f6b7f638b03b3ae4",
     "grade": false,
     "grade_id": "cell-81a7f92a88f01a31",
     "locked": true,
     "schema_version": 3,
     "solution": false,
     "task": false
    }
   },
   "outputs": [],
   "source": [
    "np_random = np.random.RandomState(12345)\n",
    "train_val_txt_files = []\n",
    "test_txt_files = []\n",
    "for _,activity_txt_files in enumerate(raw_txt_files):\n",
    "    num_txt_files = len(activity_txt_files)\n",
    "    shuffled_indices = np.arange(num_txt_files)\n",
    "    np_random.shuffle(shuffled_indices)\n",
    "    \n",
    "    train_val_txt_files.append([])\n",
    "    test_txt_files.append([])\n",
    "    for i, idx in enumerate(shuffled_indices):\n",
    "        if i < test_portion * num_txt_files:\n",
    "            test_txt_files[-1].append(activity_txt_files[idx])\n",
    "        else:\n",
    "            train_val_txt_files[-1].append(activity_txt_files[idx])"
   ]
  },
  {
   "cell_type": "markdown",
   "metadata": {
    "deletable": false,
    "editable": false,
    "nbgrader": {
     "cell_type": "markdown",
     "checksum": "7dda219123b7bad9ae04c5badc00add3",
     "grade": false,
     "grade_id": "cell-16233774bc558724",
     "locked": true,
     "schema_version": 3,
     "solution": false,
     "task": false
    }
   },
   "source": [
    "# 1. Training"
   ]
  },
  {
   "cell_type": "markdown",
   "metadata": {
    "deletable": false,
    "editable": false,
    "nbgrader": {
     "cell_type": "markdown",
     "checksum": "7c90611feb3315e8b230c843abba9ae9",
     "grade": false,
     "grade_id": "cell-dddb410edbbd02e7",
     "locked": true,
     "schema_version": 3,
     "solution": false,
     "task": false
    }
   },
   "source": [
    "For now, we'll assume the following two hyper-parameters:\n",
    "1. `d`: This is the vector quantization length in the number of rows. This default value of 32 corresponds to about 1 full second of observation.\n",
    "2. `k`: This is the number of K-Means clusters for creating features using cluster histograms.\n",
    "\n",
    "Since we do not want to engage in any hyper-parameter tuning yet, we will use the whole `train_val_txt_files` data for just training."
   ]
  },
  {
   "cell_type": "code",
   "execution_count": 8,
   "metadata": {
    "deletable": false,
    "editable": false,
    "nbgrader": {
     "cell_type": "code",
     "checksum": "a08fa7731cea0878403ca58dd5079db1",
     "grade": false,
     "grade_id": "cell-dd171d36a5b2a19b",
     "locked": true,
     "schema_version": 3,
     "solution": false,
     "task": false
    }
   },
   "outputs": [],
   "source": [
    "d = 32\n",
    "k = 100\n",
    "train_txt_files = train_val_txt_files"
   ]
  },
  {
   "cell_type": "markdown",
   "metadata": {
    "deletable": false,
    "editable": false,
    "nbgrader": {
     "cell_type": "markdown",
     "checksum": "a34fd6eaa08a2f191ccdaa42144b1942",
     "grade": false,
     "grade_id": "cell-78d94a4fdb4e6f48",
     "locked": true,
     "schema_version": 3,
     "solution": false,
     "task": false
    }
   },
   "source": [
    "Write a vector-quantization function `quantize` that takes two arguments as input\n",
    "\n",
    "1. `X`: a numpy array with the shape $(N, 3)$, where $N$ is the number of samples in a single recording. The columns represent the acceleration in each of the $x$, $y$, and $z$ directions. For example, we could have the X matrix as follows\n",
    "$$X_{135\\times 3} = \\begin{bmatrix}\n",
    "x_1 & y_1 & z_1\\\\\n",
    "x_2 & y_2 & z_2\\\\\n",
    "\\cdots\\\\\n",
    "x_{135} & y_{135} & z_{135}\\\\\n",
    "\\end{bmatrix}$$\n",
    "2. `d`: This is the number of consecutive samples for each segment in the output.\n",
    "\n",
    "and returns the variable `out`, which arranges the vector into segments of size `d` and drops any incomplete final set of data. For instance, in our previous example we should have\n",
    "$$\\textit{out}_{4\\times 96} = \n",
    "\\begin{bmatrix}\n",
    "x_1 & y_1 & z_1 & x_2 & y_2 & z_2 & \\cdots & x_{32}& y_{32} & z_{32}\\\\\n",
    "\\cdots\\\\\n",
    "x_{97} & y_{97} & z_{97} & x_{98} & y_{98} & z_{98} & \\cdots & x_{128}& y_{128} & z_{128}\\\\\n",
    "\\end{bmatrix}$$\n",
    "Each row is a segment of 32 consecutive samples (each sample with their corresponding $x_i$, $y_i$, $z_i$ acceleration measurements)."
   ]
  },
  {
   "cell_type": "code",
   "execution_count": 9,
   "metadata": {
    "deletable": false
   },
   "outputs": [],
   "source": [
    "def quantize(X, d=32):\n",
    "    \"\"\"\n",
    "    Performs vector quantization.\n",
    "\n",
    "        Parameters:\n",
    "                X (np,array): Dimension N x 3\n",
    "                d (int): The number of samples in the target output \n",
    "\n",
    "        Returns:\n",
    "                out (np.array): A numpy array with the a shape: num columns = 3*d. \n",
    "                This array contains the quantized values of the original X matrix.\n",
    "    \"\"\"   \n",
    "    assert X.ndim == 2\n",
    "    assert X.shape[1] == 3\n",
    "    \n",
    "    # your code here\n",
    "    N = X.shape[0]\n",
    "    out = X[:d * int(N/d),:].reshape(-1,3*d)\n",
    "    \n",
    "    assert out.shape[1] == 3*d\n",
    "    return out"
   ]
  },
  {
   "cell_type": "code",
   "execution_count": 10,
   "metadata": {
    "deletable": false,
    "editable": false,
    "nbgrader": {
     "cell_type": "code",
     "checksum": "a597cc29796efa567cf22959c04f77b8",
     "grade": false,
     "grade_id": "cell-79924004909a119e",
     "locked": true,
     "schema_version": 3,
     "solution": false,
     "task": false
    }
   },
   "outputs": [],
   "source": [
    "# Performing sanity checks on your implementation\n",
    "some_data = (np.arange(135*3).reshape(-1,3) ** 13) % 20\n",
    "some_q_data = quantize(some_data, d=32)\n",
    "assert np.array_equal(some_q_data, np.array([[ 0,  1, 12,  3,  4,  5, 16,  7,  8,  9,  0, 11, 12, 13,  4, 15,\n",
    "                                               16, 17,  8, 19,  0,  1, 12,  3,  4,  5, 16,  7,  8, 13,  4, 15,\n",
    "                                               0,  5,  0, 19, 12,  9,  4,  3,  4,  1,  8, 15,  8, 17, 12, 11,\n",
    "                                               4,  5,  8, 15,  0, 17,  4, 15,  8, 17, 16,  3,  0,  9,  8,  7,\n",
    "                                               0, 17,  8,  7,  0,  1, 16, 11,  8, 17,  8,  7,  8,  1, 16, 19,\n",
    "                                               12,  5,  4,  3, 12,  5,  8,  7, 16,  9, 12, 11,  8, 13,  8,  7],\n",
    "                                             [ 0,  5,  4,  3,  4,  5, 16, 11, 12,  1,  4, 11,  8,  9,  0,  7,\n",
    "                                               8, 17, 12, 11, 16,  5,  8,  7, 12, 17,  0, 11,  8, 17,  0,  7,\n",
    "                                               0,  5, 16, 19, 16,  1,  8, 11,  8, 13, 16, 11,  4, 13, 16, 11,\n",
    "                                               12, 13,  4, 15, 12, 13,  4, 15, 16,  9,  0,  3, 16, 17,  0,  3,\n",
    "                                               0,  5, 16, 15,  8,  1,  8, 19, 12,  5,  0,  7,  8, 13, 12, 19,\n",
    "                                               16,  9, 12, 15,  8,  1, 16, 19,  0, 13,  0, 19, 12, 17,  0,  3],\n",
    "                                             [ 0,  5, 16, 19, 16,  9,  0,  3,  0, 17,  8, 15, 16, 17, 12, 19,\n",
    "                                               8, 17,  8, 19, 16, 13,  0,  7, 12,  5, 12, 11, 16,  9,  4, 19,\n",
    "                                               0,  9,  0, 15, 12,  9,  8, 11,  8,  9,  8, 15, 16,  9,  4, 11,\n",
    "                                               4, 13,  8, 15, 12, 13,  4, 11,  0,  1,  4, 15,  0, 17,  8, 15,\n",
    "                                               0,  5,  0, 15, 12, 13, 16,  3,  8,  1,  4, 15,  0,  5,  0, 11,\n",
    "                                               12,  9,  8, 19,  8, 17, 12, 15, 12, 17,  0,  7,  4, 17,  0, 15],\n",
    "                                             [ 0, 17, 12,  7, 12, 17,  8, 15,  8, 13, 16, 11, 12,  1,  0,  7,\n",
    "                                               4,  9,  4, 19,  8,  5, 12,  3, 12,  1, 16,  3,  8,  9,  8, 11,\n",
    "                                               0, 17,  4, 19,  8,  5,  8, 15,  4, 17, 16,  7,  8,  5,  0, 15,\n",
    "                                               16,  9,  4,  3,  0,  1,  8, 15, 12, 13,  4, 19,  4,  1,  0,  3,\n",
    "                                               0,  1,  0, 11, 16,  9,  8, 15,  0, 13,  4, 15,  8, 17, 12,  3,\n",
    "                                               8,  1,  8, 11,  0,  9, 12, 15, 16,  9, 12,  7,  0,  9,  8, 19]]))\n",
    "\n",
    "\n",
    "# Checking against the pre-computed test database\n",
    "test_results = test_case_checker(quantize, task_id=1)\n",
    "assert test_results['passed'], test_results['message']"
   ]
  },
  {
   "cell_type": "code",
   "execution_count": 11,
   "metadata": {
    "code_folding": [
     120
    ],
    "deletable": false,
    "editable": false,
    "nbgrader": {
     "cell_type": "code",
     "checksum": "47b611c17fd38f862ed25834915e776c",
     "grade": true,
     "grade_id": "cell-057a181831011d4f",
     "locked": true,
     "points": 1,
     "schema_version": 3,
     "solution": false,
     "task": false
    }
   },
   "outputs": [],
   "source": [
    "# This cell is left empty as a seperator. You can leave this cell as it is, and you should not delete it.\n"
   ]
  },
  {
   "cell_type": "code",
   "execution_count": 12,
   "metadata": {
    "deletable": false,
    "editable": false,
    "nbgrader": {
     "cell_type": "code",
     "checksum": "be00fb999623237ce9c015ca8e2461c1",
     "grade": false,
     "grade_id": "cell-773e5b9cca8326c1",
     "locked": true,
     "schema_version": 3,
     "solution": false,
     "task": false
    }
   },
   "outputs": [],
   "source": [
    "quantized_data_for_clustering = []\n",
    "for activity_idx, activity_txt_files in enumerate(train_txt_files):\n",
    "    for txt_df in activity_txt_files:\n",
    "        quantized_text = quantize(txt_df.values, d=d)\n",
    "        quantized_data_for_clustering.append(quantized_text)\n",
    "quantized_data_for_clustering = np.concatenate(quantized_data_for_clustering, axis=0)"
   ]
  },
  {
   "cell_type": "markdown",
   "metadata": {
    "deletable": false,
    "editable": false,
    "nbgrader": {
     "cell_type": "markdown",
     "checksum": "7dcce894eae3db7df3a3afcbdce97341",
     "grade": false,
     "grade_id": "cell-ce54fb2e2e8c0a43",
     "locked": true,
     "schema_version": 3,
     "solution": false,
     "task": false
    }
   },
   "source": [
    "Using Scikit-learn's KMeans implementation, learn a K-Means clusterer. Write the function `train_kmeans_model` to get the training data `data` and `k` as arguments, and produce a SKLearn's KMeans object with `k` clusters that was trained on `data`.\n",
    "\n",
    "**Important**: You should use 12345 as the `random_state` variable for the sake of auto-grading. "
   ]
  },
  {
   "cell_type": "code",
   "execution_count": 16,
   "metadata": {
    "deletable": false
   },
   "outputs": [],
   "source": [
    "def train_kmeans_model(data, k):\n",
    "    \"\"\"\n",
    "    Performs kmeans clustering.\n",
    "\n",
    "        Parameters:\n",
    "                data (np,array): A data matrix of dimension N x d\n",
    "                k (int): The number of clusters to identify in the data \n",
    "\n",
    "        Returns:\n",
    "                kmeans_model (class sklearn.cluster.KMeans): Returns an object that have been fit Kmeans.\n",
    "                use random_state as indicated in the statement of the problem\n",
    "                \n",
    "    \"\"\" \n",
    "    \n",
    "    # your code here\n",
    "    kmeans_model = KMeans(n_clusters=k, random_state=12345).fit(data)\n",
    "    \n",
    "    return kmeans_model"
   ]
  },
  {
   "cell_type": "code",
   "execution_count": 17,
   "metadata": {
    "deletable": false,
    "editable": false,
    "nbgrader": {
     "cell_type": "code",
     "checksum": "087efa66a10c08e8f018e53759e202f2",
     "grade": false,
     "grade_id": "cell-e5b097015d98f7fc",
     "locked": true,
     "schema_version": 3,
     "solution": false,
     "task": false
    }
   },
   "outputs": [],
   "source": [
    "# Performing sanity checks on your implementation\n",
    "kmeans_model = train_kmeans_model(quantized_data_for_clustering, k)\n",
    "\n",
    "assert kmeans_model.n_clusters == k\n",
    "assert kmeans_model.random_state == 12345"
   ]
  },
  {
   "cell_type": "code",
   "execution_count": 18,
   "metadata": {
    "deletable": false,
    "editable": false,
    "nbgrader": {
     "cell_type": "code",
     "checksum": "2d2d761f54b2d81738d2ab7bb01edaf6",
     "grade": true,
     "grade_id": "cell-ce94176d91a9165c",
     "locked": true,
     "points": 1,
     "schema_version": 3,
     "solution": false,
     "task": false
    }
   },
   "outputs": [],
   "source": [
    "# This cell is left empty as a seperator. You can leave this cell as it is, and you should not delete it.\n"
   ]
  },
  {
   "cell_type": "markdown",
   "metadata": {
    "deletable": false,
    "editable": false,
    "nbgrader": {
     "cell_type": "markdown",
     "checksum": "bb272071aa114ca7f0984e0c103ec92c",
     "grade": false,
     "grade_id": "cell-b92518d844385e89",
     "locked": true,
     "schema_version": 3,
     "solution": false,
     "task": false
    }
   },
   "source": [
    "Using the `quantize` function you wrote before, write the new function `text2hist` that converts the data previously obtained from text files into a set of features using the K-Means model you have already trained.\n",
    "\n",
    "First, quantize the data. This should give you a matrix `quantized_data` with multiple rows which can then be fed to the K-Means clusterer. The output of the K-Means prediction `km_pred` has the same length as the number of rows in `quantized_data`, you should treat it as a set of samples. You should create a normalized count vector of length $k$. For normalization, consider that the prediction classes range between $0$ and $k-1$ in value. This normalized count vector would be your output. \n",
    "\n",
    "The inputs are:\n",
    "1. `X`: 1. `X`: a numpy array with the shape $(N, 3)$, where $N$ is the number of samples in a single recording. The columns represent the acceleration in each of the $x$, $y$, and $z$ directions. This is the same kind of input that was given to the `quantize` function.\n",
    "2. `kmeans_model`: This is a trained scikit-learn K-Means object that you could use for prediction.\n",
    "2. `d`: This is the vector quantization length.\n",
    "3. `k`: This is the number of clusters.\n",
    "\n",
    "The output should be a histogram `hist`; A numpy array with the shape of $(k,)$, and non-negative elements that should sum up to 1.\n",
    "\n",
    "**Hint**: Numpy functions like `np.bincount` or `np.histogram` maybe useful for histogram production if you know how to use them."
   ]
  },
  {
   "cell_type": "code",
   "execution_count": 22,
   "metadata": {
    "deletable": false
   },
   "outputs": [],
   "source": [
    "def text2hist(X, kmeans_model, d, k):\n",
    "    \"\"\"\n",
    "    Creates a normalized count vector representation of the data X.\n",
    "\n",
    "        Parameters:\n",
    "                X (np,array): A data matrix of dimension N x d\n",
    "                kmeans_model (object): An object with a KMeans algorithm pre-trained\n",
    "                d (int): number of features\n",
    "                k (int): number of clusters\n",
    "\n",
    "        Returns:\n",
    "                hist (ndarray of ints): the normalized count vector.                \n",
    "    \"\"\"   \n",
    "    assert X.ndim == 2\n",
    "    assert X.shape[1] == 3\n",
    "    assert kmeans_model.cluster_centers_.shape == (k, 3*d)\n",
    "    \n",
    "    # your code here\n",
    "    q = quantize(X,d)\n",
    "    kmp = kmeans_model.predict(q)\n",
    "    hist = np.histogram(kmp, bins=np.arange(k+1), density=True)[0]\n",
    "    \n",
    "    assert hist.ndim == 1\n",
    "    assert hist.size == k\n",
    "    assert np.sum(hist).round(2) == 1.\n",
    "    return hist"
   ]
  },
  {
   "cell_type": "code",
   "execution_count": 23,
   "metadata": {
    "deletable": false,
    "editable": false,
    "nbgrader": {
     "cell_type": "code",
     "checksum": "2cec2775db22bd7634e448bdb6e2bde0",
     "grade": false,
     "grade_id": "cell-f8a699aedcd3adaf",
     "locked": true,
     "schema_version": 3,
     "solution": false,
     "task": false
    }
   },
   "outputs": [],
   "source": [
    "# Performing sanity checks on your implementation\n",
    "some_data = (np.arange(135*3).reshape(-1,3) ** 13) % 20\n",
    "some_hist = text2hist(some_data, kmeans_model, d, k)\n",
    "assert some_hist[some_hist>0].size == 1"
   ]
  },
  {
   "cell_type": "code",
   "execution_count": 24,
   "metadata": {
    "code_folding": [],
    "deletable": false,
    "editable": false,
    "nbgrader": {
     "cell_type": "code",
     "checksum": "7f010de3e00c46d69030a191fafb16f5",
     "grade": true,
     "grade_id": "cell-672859d0cc685228",
     "locked": true,
     "points": 1,
     "schema_version": 3,
     "solution": false,
     "task": false
    }
   },
   "outputs": [],
   "source": [
    "# This cell is left empty as a seperator. You can leave this cell as it is, and you should not delete it.\n"
   ]
  },
  {
   "cell_type": "markdown",
   "metadata": {
    "deletable": false,
    "editable": false,
    "nbgrader": {
     "cell_type": "markdown",
     "checksum": "a671d92a315b98a755ede0bdec82be0d",
     "grade": false,
     "grade_id": "cell-f1a356a049db2d78",
     "locked": true,
     "schema_version": 3,
     "solution": false,
     "task": false
    }
   },
   "source": [
    "## 1.1 Creating the features"
   ]
  },
  {
   "cell_type": "code",
   "execution_count": 25,
   "metadata": {
    "deletable": false,
    "editable": false,
    "nbgrader": {
     "cell_type": "code",
     "checksum": "dcdb86949b99a33354635bb804f6c742",
     "grade": false,
     "grade_id": "cell-005b6e7f46633cb1",
     "locked": true,
     "schema_version": 3,
     "solution": false,
     "task": false
    }
   },
   "outputs": [],
   "source": [
    "def feature_maker(txt_files, kmeans_model, d, k):\n",
    "    features = []\n",
    "    labels = []\n",
    "    for activity_idx, activity_txt_files in enumerate(txt_files):\n",
    "        for txt_df in activity_txt_files:\n",
    "            feature_vec = text2hist(txt_df.values, kmeans_model, d=d, k=k)\n",
    "            features.append(feature_vec.reshape(1,-1))\n",
    "            labels.append(activity_idx)\n",
    "    features = np.concatenate(features, axis=0)\n",
    "    labels = np.array(labels)\n",
    "    return features, labels"
   ]
  },
  {
   "cell_type": "code",
   "execution_count": 26,
   "metadata": {
    "deletable": false,
    "editable": false,
    "nbgrader": {
     "cell_type": "code",
     "checksum": "dcea81ebe45d3ea012e60216453e91c8",
     "grade": false,
     "grade_id": "cell-37a55ae3c372fc64",
     "locked": true,
     "schema_version": 3,
     "solution": false,
     "task": false
    }
   },
   "outputs": [],
   "source": [
    "train_features, train_labels = feature_maker(train_txt_files, kmeans_model, d, k)"
   ]
  },
  {
   "cell_type": "markdown",
   "metadata": {
    "deletable": false,
    "editable": false,
    "nbgrader": {
     "cell_type": "markdown",
     "checksum": "ca7662ec4df090a26a69cf59e5a34e66",
     "grade": false,
     "grade_id": "cell-537bb8445967bb89",
     "locked": true,
     "schema_version": 3,
     "solution": false,
     "task": false
    }
   },
   "source": [
    "# 1.2 Training the Classifier"
   ]
  },
  {
   "cell_type": "markdown",
   "metadata": {
    "deletable": false,
    "editable": false,
    "nbgrader": {
     "cell_type": "markdown",
     "checksum": "099d0ac9eb2d13da9a93b373e0ce2d7d",
     "grade": false,
     "grade_id": "cell-6877a285f81c8c26",
     "locked": true,
     "schema_version": 3,
     "solution": false,
     "task": false
    }
   },
   "source": [
    "Using Scikit-learn's implementation, train a Random Forest classifier. Write the function `train_classifier` to get the training data `train_features` and `train_labels` as arguments, and return a SKLearn's `RandomForestClassifier` object that was trained on `data`. Use 100 trees for building the random forest.\n",
    "\n",
    "**Important**: You should use 12345 as the `random_state` variable for the sake of auto-grading. "
   ]
  },
  {
   "cell_type": "code",
   "execution_count": 27,
   "metadata": {
    "deletable": false
   },
   "outputs": [],
   "source": [
    "def train_classifier(train_features, train_labels):\n",
    "    \"\"\"\n",
    "    Creates a random forest classifier.\n",
    "\n",
    "        Parameters:\n",
    "                train_features (ndarray): A matrix of dimension n_samples, n_features\n",
    "                train_labels (ndarray): An matrix of dimension n_samples\n",
    "\n",
    "        Returns:\n",
    "                classifier: a trained SKLearn RandomForestClassifier.                \n",
    "    \"\"\"    \n",
    "    \n",
    "    # your code here\n",
    "    classifier = RandomForestClassifier(max_depth=100, random_state=12345).fit(train_features, train_labels)\n",
    "    \n",
    "    return classifier"
   ]
  },
  {
   "cell_type": "code",
   "execution_count": 28,
   "metadata": {
    "deletable": false,
    "editable": false,
    "nbgrader": {
     "cell_type": "code",
     "checksum": "bf54f732edf316a3ebd5667024e9c8cf",
     "grade": false,
     "grade_id": "cell-732826443b1542b6",
     "locked": true,
     "schema_version": 3,
     "solution": false,
     "task": false
    }
   },
   "outputs": [],
   "source": [
    "# Performing sanity checks on your implementation\n",
    "classifier = train_classifier(train_features, train_labels)\n",
    "assert classifier.n_estimators == 100\n",
    "assert classifier.random_state == 12345"
   ]
  },
  {
   "cell_type": "code",
   "execution_count": null,
   "metadata": {
    "deletable": false,
    "editable": false,
    "nbgrader": {
     "cell_type": "code",
     "checksum": "6212321a61964bd6de6aa264bff86290",
     "grade": true,
     "grade_id": "cell-f11a54fa5d18e21d",
     "locked": true,
     "points": 1,
     "schema_version": 3,
     "solution": false,
     "task": false
    }
   },
   "outputs": [],
   "source": []
  },
  {
   "cell_type": "code",
   "execution_count": 29,
   "metadata": {
    "deletable": false,
    "editable": false,
    "nbgrader": {
     "cell_type": "code",
     "checksum": "62612b7afb9bae1ee0d9a2d424ac5bec",
     "grade": false,
     "grade_id": "cell-f5b20f6be31bd031",
     "locked": true,
     "schema_version": 3,
     "solution": false,
     "task": false
    }
   },
   "outputs": [
    {
     "name": "stdout",
     "output_type": "stream",
     "text": [
      " Training accuracy: 1.0\n"
     ]
    }
   ],
   "source": [
    "train_pred = classifier.predict(train_features)\n",
    "print(f' Training accuracy: {np.mean(train_pred==train_labels)}')"
   ]
  },
  {
   "cell_type": "code",
   "execution_count": 30,
   "metadata": {
    "deletable": false,
    "editable": false,
    "nbgrader": {
     "cell_type": "code",
     "checksum": "1a1c9267db670d9ad0e8b475e147f1d6",
     "grade": false,
     "grade_id": "cell-7f6f23448870022f",
     "locked": true,
     "schema_version": 3,
     "solution": false,
     "task": false
    }
   },
   "outputs": [
    {
     "name": "stdout",
     "output_type": "stream",
     "text": [
      " Testing accuracy: 0.8439306358381503\n"
     ]
    }
   ],
   "source": [
    "test_features, test_labels = feature_maker(test_txt_files, kmeans_model, d, k)\n",
    "test_pred = classifier.predict(test_features)\n",
    "print(f' Testing accuracy: {np.mean(test_pred==test_labels)}')"
   ]
  },
  {
   "cell_type": "code",
   "execution_count": 31,
   "metadata": {
    "deletable": false,
    "editable": false,
    "nbgrader": {
     "cell_type": "code",
     "checksum": "e23c6ad1f68b7ea87413eb9373340cac",
     "grade": false,
     "grade_id": "cell-50c308a551fa1288",
     "locked": true,
     "schema_version": 3,
     "solution": false,
     "task": false
    }
   },
   "outputs": [
    {
     "data": {
      "text/plain": [
       "<sklearn.metrics._plot.confusion_matrix.ConfusionMatrixDisplay at 0x7fda2c52d730>"
      ]
     },
     "execution_count": 31,
     "metadata": {},
     "output_type": "execute_result"
    },
    {
     "data": {
      "image/png": "[encoded data removed]",
      "text/plain": [
       "<Figure size 800x800 with 2 Axes>"
      ]
     },
     "metadata": {
      "needs_background": "light"
     },
     "output_type": "display_data"
    }
   ],
   "source": [
    "from sklearn.metrics import plot_confusion_matrix\n",
    "fig, ax = plt.subplots(figsize=(8,8), dpi=100)\n",
    "plot_confusion_matrix(classifier, test_features, test_labels, \n",
    "                      display_labels=activity_labels, \n",
    "                      xticks_rotation = 'vertical', ax=ax)"
   ]
  },
  {
   "cell_type": "markdown",
   "metadata": {
    "deletable": false,
    "editable": false,
    "nbgrader": {
     "cell_type": "markdown",
     "checksum": "88af5b8440ed3451bcdb8bf369fd94d6",
     "grade": false,
     "grade_id": "cell-a1f404ae47d6ab23",
     "locked": true,
     "schema_version": 3,
     "solution": false,
     "task": false
    }
   },
   "source": [
    "# 2. Hyperparameter tuning"
   ]
  },
  {
   "cell_type": "markdown",
   "metadata": {
    "deletable": false,
    "editable": false,
    "nbgrader": {
     "cell_type": "markdown",
     "checksum": "e60f0831ca8507ab295ed38cfcf3776c",
     "grade": false,
     "grade_id": "cell-57be6c76ce98a04d",
     "locked": true,
     "schema_version": 3,
     "solution": false,
     "task": false
    }
   },
   "source": [
    "The following function only combines what we already have done so far. It essentially takes the training and test data, along with the choice of `d` and `k` hyperparameters, trains a model, and then returns the test accuracy."
   ]
  },
  {
   "cell_type": "code",
   "execution_count": 32,
   "metadata": {
    "deletable": false,
    "editable": false,
    "nbgrader": {
     "cell_type": "code",
     "checksum": "7937c680c4ef4e0e018fed9cd6285bfc",
     "grade": false,
     "grade_id": "cell-ee5a278ef6bcfeff",
     "locked": true,
     "schema_version": 3,
     "solution": false,
     "task": false
    }
   },
   "outputs": [],
   "source": [
    "def train_and_evaluate(train_txt_files, test_txt_files, d, k, plot_confusion_mat=False):\n",
    "    quantized_data_for_clustering = []\n",
    "    for activity_idx, activity_txt_files in enumerate(train_txt_files):\n",
    "        for txt_df in activity_txt_files:\n",
    "            quantized_text = quantize(txt_df.values, d=d)\n",
    "            quantized_data_for_clustering.append(quantized_text)\n",
    "    quantized_data_for_clustering = np.concatenate(quantized_data_for_clustering, axis=0)\n",
    "\n",
    "    kmeans_model = train_kmeans_model(quantized_data_for_clustering, k)\n",
    "\n",
    "    train_features, train_labels = feature_maker(train_txt_files, kmeans_model, d, k)\n",
    "\n",
    "    classifier = train_classifier(train_features, train_labels)\n",
    "\n",
    "    test_features, test_labels = feature_maker(test_txt_files, kmeans_model, d, k)\n",
    "    test_pred = classifier.predict(test_features)\n",
    "    test_acc = np.mean(test_pred==test_labels)\n",
    "    \n",
    "    if plot_confusion_mat:\n",
    "        fig, ax = plt.subplots(figsize=(8,8), dpi=100)\n",
    "        plot_confusion_matrix(classifier, test_features, test_labels, \n",
    "                              display_labels=activity_labels, \n",
    "                              xticks_rotation = 'vertical', ax=ax)\n",
    "    \n",
    "    return test_acc"
   ]
  },
  {
   "cell_type": "markdown",
   "metadata": {
    "deletable": false,
    "editable": false,
    "nbgrader": {
     "cell_type": "markdown",
     "checksum": "913e34767fd2c00f6ffb7e538dfc5e4d",
     "grade": false,
     "grade_id": "cell-8c9fcc41cebd6d58",
     "locked": true,
     "schema_version": 3,
     "solution": false,
     "task": false
    }
   },
   "source": [
    "## 2.1 Cross-Validation\n",
    "\n",
    "<font color='red'> <b>Attention: </b> </font> The followup quiz of this assignment will ask some questions about performance in cross-validation. Although you are not implementing this part, you may want to come back here to do some calculations to get answers for the questions in the quiz.\n",
    "\n",
    "<font color='red'><b> Warning: </b></font> Using the \"Validate\" button for this assignment may lead to a timeout, please do not use it."
   ]
  },
  {
   "cell_type": "markdown",
   "metadata": {
    "deletable": false,
    "editable": false,
    "nbgrader": {
     "cell_type": "markdown",
     "checksum": "0dd511125d8f900e7929244cc14d13d9",
     "grade": false,
     "grade_id": "cell-7386715d98ebfeab",
     "locked": true,
     "schema_version": 3,
     "solution": false,
     "task": false
    }
   },
   "source": [
    "### 2.1.1 Getting a Dry Run"
   ]
  },
  {
   "cell_type": "markdown",
   "metadata": {
    "deletable": false,
    "editable": false,
    "nbgrader": {
     "cell_type": "markdown",
     "checksum": "ff54de8b3e97361b86b515f98888494f",
     "grade": false,
     "grade_id": "cell-e19c250cc13c723d",
     "locked": true,
     "schema_version": 3,
     "solution": false,
     "task": false
    }
   },
   "source": [
    "First, let's create a tiny version of our dataset with at most 5 training items per class. Since running a 5 or 10-fold cross-validation would be extremely time consuming, we are running a 3-fold cross-validation."
   ]
  },
  {
   "cell_type": "code",
   "execution_count": 33,
   "metadata": {
    "deletable": false,
    "editable": false,
    "nbgrader": {
     "cell_type": "code",
     "checksum": "f2111bd1e4d670045ba86edc63d6b18e",
     "grade": false,
     "grade_id": "cell-1a83371363f2d497",
     "locked": true,
     "schema_version": 3,
     "solution": false,
     "task": false
    }
   },
   "outputs": [],
   "source": [
    "def generate_cv_pairs(train_val_txt_files, cv_folds=3):\n",
    "    cross_val_pairs = []\n",
    "    for fold_idx in range(cv_folds):\n",
    "        train_cv_files = []\n",
    "        val_cv_files = []\n",
    "        for activity_idx, activity_txt_files in enumerate(train_val_txt_files):\n",
    "            train_cv_files.append([])\n",
    "            val_cv_files.append([])\n",
    "            for i, txt_df in enumerate(activity_txt_files):\n",
    "                if float(fold_idx+1)/cv_folds > float(i)/len(activity_txt_files) >= float(fold_idx)/cv_folds:\n",
    "                    val_cv_files[-1].append(txt_df)\n",
    "                else:\n",
    "                    train_cv_files[-1].append(txt_df)\n",
    "        cross_val_pairs.append((train_cv_files,val_cv_files))\n",
    "    return cross_val_pairs\n",
    "\n",
    "def perform_cross_validation(cross_val_pairs, k_list, d_list):\n",
    "    kd_acc = dict()\n",
    "    for k_candidate in k_list:\n",
    "        for d_candidate in d_list:\n",
    "            fold_accs = []\n",
    "            for train_txt_files, val_txt_files in cross_val_pairs:\n",
    "                print('.', end='')\n",
    "                fold_acc = train_and_evaluate(train_txt_files, val_txt_files, d_candidate, k_candidate)\n",
    "                fold_accs.append(fold_acc)\n",
    "            cv_acc = np.mean(fold_accs)\n",
    "\n",
    "            kd_acc[(k_candidate, d_candidate)] = cv_acc\n",
    "        print('')\n",
    "    return kd_acc"
   ]
  },
  {
   "cell_type": "code",
   "execution_count": 34,
   "metadata": {
    "deletable": false,
    "editable": false,
    "nbgrader": {
     "cell_type": "code",
     "checksum": "bbbec3639919bf3cc3df32c78fa3aaa8",
     "grade": false,
     "grade_id": "cell-7078c3d6ead50477",
     "locked": true,
     "schema_version": 3,
     "solution": false,
     "task": false
    }
   },
   "outputs": [],
   "source": [
    "# List of k and d candidates for performing hyper-parameter optimization using Cross-Validation\n",
    "k_list = [50, 200, 500]\n",
    "d_list = [8, 16, 32, 64]"
   ]
  },
  {
   "cell_type": "code",
   "execution_count": 35,
   "metadata": {
    "deletable": false,
    "editable": false,
    "nbgrader": {
     "cell_type": "code",
     "checksum": "57cc6d092ed67487aba0f0d67f218fa1",
     "grade": true,
     "grade_id": "cell-8ea2a468de503648",
     "locked": true,
     "points": 0,
     "schema_version": 3,
     "solution": false,
     "task": false
    }
   },
   "outputs": [],
   "source": [
    "# This cell is left empty as a seperator. You can leave this cell as it is, and you should not delete it.\n"
   ]
  },
  {
   "cell_type": "code",
   "execution_count": 36,
   "metadata": {
    "deletable": false,
    "editable": false,
    "nbgrader": {
     "cell_type": "code",
     "checksum": "cfc9f65196c729076d4d0c21601c9a94",
     "grade": false,
     "grade_id": "cell-4171370e4b1182df",
     "locked": true,
     "schema_version": 3,
     "solution": false,
     "task": false
    }
   },
   "outputs": [
    {
     "name": "stdout",
     "output_type": "stream",
     "text": [
      "............\n",
      "............\n",
      "............\n"
     ]
    }
   ],
   "source": [
    "if perform_computation:\n",
    "    train_val_txt_files_tiny = [x[:5] for x in train_val_txt_files]\n",
    "    test_txt_files_tiny = [x[:5] for x in test_txt_files]\n",
    "    cross_val_pairs_tiny = generate_cv_pairs(train_val_txt_files_tiny, cv_folds=3)\n",
    "    kd_acc = perform_cross_validation(cross_val_pairs_tiny, k_list=k_list, d_list=d_list)"
   ]
  },
  {
   "cell_type": "code",
   "execution_count": 37,
   "metadata": {
    "deletable": false,
    "editable": false,
    "nbgrader": {
     "cell_type": "code",
     "checksum": "648f256106b034aff62059fbf684100f",
     "grade": false,
     "grade_id": "cell-9bc4be5b76cb4c54",
     "locked": true,
     "schema_version": 3,
     "solution": false,
     "task": false
    }
   },
   "outputs": [
    {
     "data": {
      "image/png": "[encoded data removed]",
      "text/plain": [
       "<Figure size 1000x800 with 1 Axes>"
      ]
     },
     "metadata": {
      "needs_background": "light"
     },
     "output_type": "display_data"
    }
   ],
   "source": [
    "if perform_computation:\n",
    "    fig, ax = plt.subplots(figsize=(10,8), dpi=100)\n",
    "    for (k_,d_), acc_ in kd_acc.items():\n",
    "        ax.scatter([k_], [d_])\n",
    "        ax.annotate('%.1f'%(acc_*100.) + '%', (k_-int((max(k_list)-min(k_list))*0.022), d_*1.03))\n",
    "    ax.set_xlabel('Number of clusters')\n",
    "    ax.set_ylabel('Vector Quantization Length')\n",
    "    ax.set_yscale('symlog', base=2)\n",
    "    ax.set_yticks(d_list)\n",
    "    from matplotlib.ticker import ScalarFormatter\n",
    "    ax.yaxis.set_major_formatter(ScalarFormatter())\n",
    "    ax.ticklabel_format(axis='y', style='plain')\n",
    "    _ = ax.set_title('Cross-Validation Accuracy Values (*Dry Run)')"
   ]
  },
  {
   "cell_type": "code",
   "execution_count": 38,
   "metadata": {
    "deletable": false,
    "editable": false,
    "nbgrader": {
     "cell_type": "code",
     "checksum": "d7900e77dd2c2328b6eae03a6b22c246",
     "grade": false,
     "grade_id": "cell-f161e4ea71e262c0",
     "locked": true,
     "schema_version": 3,
     "solution": false,
     "task": false
    }
   },
   "outputs": [
    {
     "name": "stdout",
     "output_type": "stream",
     "text": [
      "Best Number of Clusters (*Dry Run): k=200\n",
      "Best Quantization Length (*Dry Run): d=16\n",
      "Tuned Test Accuracy (*Dry Run): 0.7241379310344828\n"
     ]
    },
    {
     "data": {
      "image/png": "[encoded data removed]",
      "text/plain": [
       "<Figure size 800x800 with 2 Axes>"
      ]
     },
     "metadata": {
      "needs_background": "light"
     },
     "output_type": "display_data"
    }
   ],
   "source": [
    "if perform_computation:\n",
    "    (best_k, best_d), best_cv_acc = max(kd_acc.items(), key=lambda tup_: tup_[1])\n",
    "    test_acc = train_and_evaluate(train_val_txt_files_tiny, test_txt_files_tiny, best_d, best_k, plot_confusion_mat=True)\n",
    "    print(f'Best Number of Clusters (*Dry Run): k={best_k}')\n",
    "    print(f'Best Quantization Length (*Dry Run): d={best_d}')\n",
    "    print(f'Tuned Test Accuracy (*Dry Run): {test_acc}')"
   ]
  },
  {
   "cell_type": "markdown",
   "metadata": {
    "deletable": false,
    "editable": false,
    "nbgrader": {
     "cell_type": "markdown",
     "checksum": "d253891b35111b9ab566bcc94e9adfb2",
     "grade": false,
     "grade_id": "cell-428422f6f762a445",
     "locked": true,
     "schema_version": 3,
     "solution": false,
     "task": false
    }
   },
   "source": [
    "### 2.1.2 Getting a More Serious Run"
   ]
  },
  {
   "cell_type": "markdown",
   "metadata": {
    "deletable": false,
    "editable": false,
    "nbgrader": {
     "cell_type": "markdown",
     "checksum": "b558906bafd683019d46042d9ec729a1",
     "grade": false,
     "grade_id": "cell-0ccc70fc8562f597",
     "locked": true,
     "schema_version": 3,
     "solution": false,
     "task": false
    }
   },
   "source": [
    "Now we will perform cross-validation with the full set of samples."
   ]
  },
  {
   "cell_type": "markdown",
   "metadata": {
    "deletable": false,
    "editable": false,
    "nbgrader": {
     "cell_type": "markdown",
     "checksum": "e84f099c02154edcf481cd0d7f3fd7f3",
     "grade": false,
     "grade_id": "cell-be62cd7e0a3dd0a8",
     "locked": true,
     "schema_version": 3,
     "solution": false,
     "task": false
    }
   },
   "source": [
    "The following may take up to an hour, so please be patient..."
   ]
  },
  {
   "cell_type": "code",
   "execution_count": null,
   "metadata": {
    "deletable": false,
    "editable": false,
    "nbgrader": {
     "cell_type": "code",
     "checksum": "43592ebbe2ed0c3a4552cf0b7804d12d",
     "grade": false,
     "grade_id": "cell-db0e6bd084b0f7b6",
     "locked": true,
     "schema_version": 3,
     "solution": false,
     "task": false
    }
   },
   "outputs": [],
   "source": [
    "# List of k and d candidates for performing hyper-parameter optimization using Cross-Validation\n",
    "k_list = [50, 200, 500]\n",
    "d_list = [8, 16, 32, 64]"
   ]
  },
  {
   "cell_type": "code",
   "execution_count": null,
   "metadata": {
    "deletable": false,
    "editable": false,
    "nbgrader": {
     "cell_type": "code",
     "checksum": "fc90314f5c03f0ca31989ca776fda536",
     "grade": true,
     "grade_id": "cell-44f38913016f6229",
     "locked": true,
     "points": 0,
     "schema_version": 3,
     "solution": false,
     "task": false
    }
   },
   "outputs": [],
   "source": [
    "# This cell is left empty as a seperator. You can leave this cell as it is, and you should not delete it.\n"
   ]
  },
  {
   "cell_type": "code",
   "execution_count": null,
   "metadata": {
    "deletable": false,
    "editable": false,
    "nbgrader": {
     "cell_type": "code",
     "checksum": "3cd7676ac88eba8a08c5cd56e3882c80",
     "grade": false,
     "grade_id": "cell-e7912522fd4fb318",
     "locked": true,
     "schema_version": 3,
     "solution": false,
     "task": false
    }
   },
   "outputs": [],
   "source": [
    "if perform_computation:\n",
    "    cross_val_pairs = generate_cv_pairs(train_val_txt_files, cv_folds=3)\n",
    "    kd_acc = perform_cross_validation(cross_val_pairs, k_list=k_list, d_list=d_list)"
   ]
  },
  {
   "cell_type": "code",
   "execution_count": null,
   "metadata": {
    "deletable": false,
    "editable": false,
    "nbgrader": {
     "cell_type": "code",
     "checksum": "c846a9af6c9766d34e210b56fd4a8736",
     "grade": false,
     "grade_id": "cell-5f5d679c0f0a55e0",
     "locked": true,
     "schema_version": 3,
     "solution": false,
     "task": false
    }
   },
   "outputs": [],
   "source": [
    "if perform_computation:\n",
    "    fig, ax = plt.subplots(figsize=(10,8), dpi=100)\n",
    "    for (k_,d_), acc_ in kd_acc.items():\n",
    "        ax.scatter([k_], [d_])\n",
    "        ax.annotate('%.1f'%(acc_*100.) + '%', (k_-int((max(k_list)-min(k_list))*0.022), d_*1.03))\n",
    "    ax.set_xlabel('Number of clusters')\n",
    "    ax.set_ylabel('Vector Quantization Length')\n",
    "    ax.set_yscale('symlog', base=2)\n",
    "    ax.set_yticks(d_list)\n",
    "    from matplotlib.ticker import ScalarFormatter\n",
    "    ax.yaxis.set_major_formatter(ScalarFormatter())\n",
    "    ax.ticklabel_format(axis='y', style='plain')\n",
    "    _ = ax.set_title('Cross-Validation Accuracy Values')"
   ]
  },
  {
   "cell_type": "code",
   "execution_count": null,
   "metadata": {
    "deletable": false,
    "editable": false,
    "nbgrader": {
     "cell_type": "code",
     "checksum": "59c3562bb81e4ce3d65b9fb070a968a4",
     "grade": false,
     "grade_id": "cell-da96eca3be6e3225",
     "locked": true,
     "schema_version": 3,
     "solution": false,
     "task": false
    }
   },
   "outputs": [],
   "source": [
    "if perform_computation:\n",
    "    (best_k, best_d), best_cv_acc = max(kd_acc.items(), key=lambda tup_: tup_[1])\n",
    "    test_acc = train_and_evaluate(train_val_txt_files, test_txt_files, best_d, best_k, plot_confusion_mat=True)\n",
    "    print(f'Best Number of Clusters: k={best_k}')\n",
    "    print(f'Best Quantization Length: d={best_d}')\n",
    "    print(f'Tuned Test Accuracy: {test_acc}')"
   ]
  }
 ],
 "metadata": {
  "illinois_payload": {
   "b64z": "",
   "nb_path": "release/HiDimClassification/HiDimClassification.ipynb"
  },
  "kernelspec": {
   "display_name": "Python 3 (Threads: 2)",
   "language": "python",
   "name": "python3"
  },
  "language_info": {
   "codemirror_mode": {
    "name": "ipython",
    "version": 3
   },
   "file_extension": ".py",
   "mimetype": "text/x-python",
   "name": "python",
   "nbconvert_exporter": "python",
   "pygments_lexer": "ipython3",
   "version": "3.8.12"
  }
 },
 "nbformat": 4,
 "nbformat_minor": 2
}
